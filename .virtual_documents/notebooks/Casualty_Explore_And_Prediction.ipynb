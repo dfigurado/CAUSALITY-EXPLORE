%pip install pandas
%pip install numpy
%pip install matplotlib
%pip install seaborn
%pip install scikit-learn


import pandas as pd
import numpy as np
import matplotlib.pyplot as plt
import seaborn as sns
from sklearn.model_selection import train_test_split
from sklearn.linear_model import LinearRegression
from sklearn.metrics import mean_squared_error, r2_score





df_raw = pd.read_csv("../data/raw/medical_appointment_no_show.csv")
df_raw





print(df_raw.head())





df_raw.info()





print(f"Column Names :", df_raw.columns)





print(f"Shape of the dataframe - Rows: ", df_raw.shape[0])
print(f"Shape of the dataframe - Columns: ", df_raw.shape[1])





print(f"Null values in the dataframe:\n", df_raw.isnull().sum())





df_raw.describe()








print("Unique values in the `Age` column => {}".format(df_raw.Age.unique()))





df_raw['No-show'].value_counts()





df_raw['AppointmentDay'] = pd.to_datetime(df_raw['AppointmentDay'])
df_raw['ScheduledDay'] = pd.to_datetime(df_raw['ScheduledDay'])

df_raw['LeadTime'] = (df_raw['AppointmentDay'] - df_raw['ScheduledDay']).dt.days

df_raw['LeadTime']











temp_df = df_raw.copy()

temp_df.columns = [col.strip().lower()
  .replace("-", "")
  .replace(" ", "_")
  .replace("hipertension", "hypertension")
  .replace("handcap", "handicap") for col in df_raw.columns]

temp_df.rename(columns={
    "patientid":"patient_id",
    "appointmentid":"appointment_id",
    "appointmentday":"appointment_day",
    "scheduledday":"scheduled_day",
    "noshow":"no_show"
}, inplace=True)

temp_df.head()





# Convert patient_id and appointment_id to int64
temp_df['patient_id'] = temp_df['patient_id'].astype('int64')
temp_df['appointment_id'] = temp_df['appointment_id'].astype('int64')

# Convert `Appointment Day` and `Scheduled Day`to date ignoring
temp_df['scheduled_day'] = pd.to_datetime(temp_df['scheduled_day']).dt.date
temp_df['appointment_day'] = pd.to_datetime(temp_df['appointment_day']).dt.date

temp_df





temp_df = temp_df[temp_df['leadtime'] >= 0].reset_index(drop=True)
temp_df





temp_df = temp_df[(temp_df['age'] >= 0) & (temp_df['age'] <= 120)].reset_index(drop=True)
temp_df





new_df = temp_df.copy(deep=True)
new_df





no_show_rate = new_df['no_show'].value_counts(normalize=True)
print(no_show_rate)


# Visualize no-show rate
sns.countplot(x='no_show', data=new_df)
plt.title('No-show Rate')
plt.show()





# Gender distribution
gender_distribution = new_df['gender'].value_counts(normalize=True) * 100
print(gender_distribution)


# No-show rate by gender
no_show_by_gender = new_df.groupby('gender')['no_show'].value_counts(normalize=True) * 100
print(no_show_by_gender)


# Visualize gender distribution
plt.figure(figsize=(12, 6))
sns.countplot(x='gender', hue='no_show', data=new_df)
plt.title('No-Show Rate by Gender')
plt.show()





plt.figure(figsize=(12, 6))
# Age distribution
sns.histplot(new_df['age'], bins=20, kde=True)
plt.title('Age Distribution')
plt.show()


# No-show rate by age group
new_df['age_group'] = pd.cut(new_df['age'], bins=[0, 18, 35, 50, 65, 100], labels=['0-18', '19-35', '36-50', '51-65', '66+'])
no_show_by_age = new_df.groupby('age_group')['no_show'].value_counts(normalize=True) * 100
print(no_show_by_age)


plt.figure(figsize=(12, 6))
# Visualize no-show rate by age group
sns.countplot(x='age_group', hue='no_show', data=new_df, palette="coolwarm")
plt.title('No-show Rate by Age Group')
plt.show()





plt.figure(figsize=(12, 6))

neighborhood_counts = new_df['neighbourhood'].value_counts().head(10)
neighborhood_counts.index = neighborhood_counts.index.str.title()
neighborhood_counts.plot(kind='bar', color='skyblue')

plt.title('Top 10 Neighborhoods with the Most Medical Appointments')
plt.xlabel('Neighborhood')
plt.ylabel('Number of Appointments')
plt.xticks(rotation=45)
plt.show()





plt.figure(figsize=(12, 6))
new_df['appointment_day'].value_counts().sort_index().plot()
plt.title('Distribution of Appointment Dates')
plt.xlabel('Date')
plt.ylabel('Number of Appointments')
plt.show()





new_df['days_between_appointment'] = (pd.to_datetime(new_df["appointment_day"]) - pd.to_datetime(new_df['scheduled_day'])).dt.days

plt.figure(figsize=(12, 6))
sns.histplot(new_df['days_between_appointment'], bins=20, kde=True, color='Purple')
plt.title('Distribution of Days Between Scheduling and Appointment')
plt.xlabel('Days Between Scheduling and Appointment')
plt.ylabel('Number of Appointments')
plt.show()





plt.figure(figsize=(12, 6))
sns.boxplot(x=new_df['no_show'], y=new_df['days_between_appointment'], hue=new_df['no_show'], palette="coolwarm")
plt.title('Impact of Scheduling Time on No-Show Rate')
plt.xlabel('No-Show Status')
plt.ylabel('Days Between Scheduling and Appointment')
plt.show()





# `No Show` encoding
new_df['no_show'] = new_df['no_show'].map({'Yes': 1, 'No': 0})

new_df


new_df['appointment_weekday'] = pd.to_datetime(new_df['appointment_day']).dt.day_name()

plt.figure(figsize=(12, 6))
sns.barplot(x=new_df['appointment_weekday'], y=new_df['no_show'], hue=new_df['appointment_weekday'], order=["Monday","Tuesday","Wednesday","Thursday","Friday","Saturday"], palette="coolwarm", errorbar=None)
plt.title('No-Show Rate by Day of the week')
plt.xlabel('Day of the weelk')
plt.ylabel('No-Show Rate')
plt.xticks(rotation=45)
plt.show()





plt.figure(figsize=(12, 6))
sns.barplot(x=new_df['scholarship'], y=new_df['no_show'], hue=new_df['scholarship'], palette="coolwarm")
plt.title('No-Show Rate for Patients with a Scholarship')
plt.xlabel('Scholarship')
plt.ylabel('No-Show Rate')
plt.show()





# Convert 'No_show' to numeric (1 for 'Yes', 0 for 'No')
new_df['no_show'] = new_df['no_show'].map({1: 'Yes', 0: 'No'})
new_df


# No-show rate for patients with hypertension or diabetes
new_df['no_show'] = new_df['no_show'].map({'Yes': 1, 'No': 0})
# Create a new column for the number of chronic conditions (Hypertension or Diabetes)
new_df['num_chronic_conditions'] = new_df[['hypertension','diabetes']].sum(axis=1)

# Group by the number of chronic conditions and calculate the no-show rate
no_show_by_chronic = new_df.groupby('num_chronic_conditions')['no_show'].mean() * 100

# Reset index for plotting
no_show_by_chronic = no_show_by_chronic.reset_index()

# Plot the no-show rate
plt.figure(figsize=(8, 4))
sns.barplot(x='num_chronic_conditions', y='no_show', hue='num_chronic_conditions', data=no_show_by_chronic, palette="coolwarm", legend=False)
plt.title('No-Show Rate for Patients with Hypertension or Diabetes')
plt.xlabel("Number of Chronic Conditions (0-2)")
plt.ylabel("No-Show Rate (%)")
plt.show()





plt.figure(figsize=(8, 4))
sns.barplot(x=new_df['alcoholism'], y=new_df['no_show'], hue=new_df['alcoholism'], palette="coolwarm", errorbar=None)
plt.title('No-Show Rate for Patients with Alcoholism')
plt.xlabel('Alcoholism (0 = No, 1 = Yes)')
plt.ylabel('No-Show Rate')
plt.show()





plt.figure(figsize=(12, 6))
sns.barplot(x=new_df['handicap'], y=new_df['no_show'], hue=new_df['handicap'] ,palette="coolwarm", errorbar=None)
plt.title('No-Show Rate by Handicap Status')
plt.xlabel('Handicap Status')
plt.ylabel('No-Show Rate')
plt.show()





# Grouped by SMS_Received and calculate the no-show rate
no_show_by_sms = new_df.groupby('sms_received')['no_show'].mean() * 100

# Reset index for plotting
no_show_by_sms = no_show_by_sms.reset_index()

# Plot the no-show rate
plt.figure(figsize=(8, 4))
sns.barplot(x='sms_received', y='no_show', hue='sms_received', data=no_show_by_sms, palette="coolwarm", legend=False)
plt.title('No-Show Rate by SMS Reminder')
plt.xlabel('SMS Reminder (1 = Yes, 0 = No)')
plt.ylabel('No-Show Rate (%)')
plt.show()





new_df['sms_received_label'] = new_df['sms_received'].map({0: 'No', 1: 'Yes'})

no_show_by_sms_count = new_df.groupby('sms_received_label')['no_show'].mean() * 100
no_show_by_sms_count = no_show_by_sms_count.reset_index()

plt.figure(figsize=(12, 6))
sns.barplot(x='sms_received_label', y='no_show', hue='sms_received_label', data=no_show_by_sms_count, palette="coolwarm", legend=False)
plt.title('No-Show Rate by SMS Reminder')
plt.xlabel('SMS Reminder')
plt.ylabel('No-Show Rate (%)')
plt.show()








# Current columns in the DataFrame
new_df.columns


new_df








new_df_features = new_df.copy(deep=True)
# 1. Extract the hour of the day when the appointment was scheduled
new_df_features['scheduled_hour'] = pd.to_datetime(new_df_features['scheduled_day']).dt.hour
# 2. Create a new column for the total number of chronic conditions
new_df_features['IsWeekend'] = pd.to_datetime(new_df_features['appointment_day']).dt.dayofweek.isin([5, 6]).astype(int)  # 5 = Saturday, 6 = Sunday
# 3. Create a feature for the number of days until the next appointment (if applicable)
new_df_features['day_until_next_appointment'] = new_df_features.groupby('patient_id')['appointment_day'].diff().dt.days
# 4. Create a feature for the number of previous no-shows by the patient
new_df_features['previous_no_shows'] = new_df_features.groupby('patient_id')['no_show'].cumsum() - new_df_features['no_show']
# 5. Create a feature for the number of previous no-shows by the patient
new_df_features['total_appointments'] = new_df_features.groupby('patient_id')['appointment_id'].transform('count')





# 6. Encode categorical variables as needed for modeling
new_df_features = pd.get_dummies(new_df_features, columns=["neighbourhood", 'age_group', 'appointment_weekday', 'sms_received_label'], drop_first=True)


# Drop irrelevant columns
# new_df_features = new_df_features.drop(columns=['patient_id','appointment_id', 'scheduled_day',])','appointment_day'])t
