{
 "cells": [
  {
   "cell_type": "code",
   "execution_count": 1,
   "metadata": {
    "ExecuteTime": {
     "end_time": "2025-05-31T23:02:34.655521Z",
     "start_time": "2025-05-31T23:02:17.557745Z"
    },
    "colab": {
     "base_uri": "https://localhost:8080/"
    },
    "id": "ZwK7Yi6Ud1YO",
    "outputId": "0c2b0516-97f4-44f3-ea82-7b8bc279f907"
   },
   "outputs": [
    {
     "name": "stdout",
     "output_type": "stream",
     "text": [
      "Requirement already satisfied: pandas in c:\\programdata\\anaconda3\\lib\\site-packages (2.2.3)\n",
      "Requirement already satisfied: numpy>=1.26.0 in c:\\programdata\\anaconda3\\lib\\site-packages (from pandas) (1.26.4)\n",
      "Requirement already satisfied: python-dateutil>=2.8.2 in c:\\programdata\\anaconda3\\lib\\site-packages (from pandas) (2.9.0.post0)\n",
      "Requirement already satisfied: pytz>=2020.1 in c:\\programdata\\anaconda3\\lib\\site-packages (from pandas) (2024.1)\n",
      "Requirement already satisfied: tzdata>=2022.7 in c:\\programdata\\anaconda3\\lib\\site-packages (from pandas) (2023.3)\n",
      "Requirement already satisfied: six>=1.5 in c:\\programdata\\anaconda3\\lib\\site-packages (from python-dateutil>=2.8.2->pandas) (1.16.0)\n",
      "Note: you may need to restart the kernel to use updated packages.\n",
      "Requirement already satisfied: numpy in c:\\programdata\\anaconda3\\lib\\site-packages (1.26.4)\n",
      "Note: you may need to restart the kernel to use updated packages.\n",
      "Requirement already satisfied: matplotlib in c:\\programdata\\anaconda3\\lib\\site-packages (3.10.0)\n",
      "Requirement already satisfied: contourpy>=1.0.1 in c:\\programdata\\anaconda3\\lib\\site-packages (from matplotlib) (1.2.0)\n",
      "Requirement already satisfied: cycler>=0.10 in c:\\programdata\\anaconda3\\lib\\site-packages (from matplotlib) (0.11.0)\n",
      "Requirement already satisfied: fonttools>=4.22.0 in c:\\programdata\\anaconda3\\lib\\site-packages (from matplotlib) (4.51.0)\n",
      "Requirement already satisfied: kiwisolver>=1.3.1 in c:\\programdata\\anaconda3\\lib\\site-packages (from matplotlib) (1.4.4)\n",
      "Requirement already satisfied: numpy>=1.23 in c:\\programdata\\anaconda3\\lib\\site-packages (from matplotlib) (1.26.4)\n",
      "Requirement already satisfied: packaging>=20.0 in c:\\programdata\\anaconda3\\lib\\site-packages (from matplotlib) (24.1)\n",
      "Requirement already satisfied: pillow>=8 in c:\\programdata\\anaconda3\\lib\\site-packages (from matplotlib) (10.4.0)\n",
      "Requirement already satisfied: pyparsing>=2.3.1 in c:\\programdata\\anaconda3\\lib\\site-packages (from matplotlib) (3.1.2)\n",
      "Requirement already satisfied: python-dateutil>=2.7 in c:\\programdata\\anaconda3\\lib\\site-packages (from matplotlib) (2.9.0.post0)\n",
      "Requirement already satisfied: six>=1.5 in c:\\programdata\\anaconda3\\lib\\site-packages (from python-dateutil>=2.7->matplotlib) (1.16.0)\n",
      "Note: you may need to restart the kernel to use updated packages.\n",
      "Requirement already satisfied: seaborn in c:\\programdata\\anaconda3\\lib\\site-packages (0.13.2)\n",
      "Requirement already satisfied: numpy!=1.24.0,>=1.20 in c:\\programdata\\anaconda3\\lib\\site-packages (from seaborn) (1.26.4)\n",
      "Requirement already satisfied: pandas>=1.2 in c:\\programdata\\anaconda3\\lib\\site-packages (from seaborn) (2.2.3)\n",
      "Requirement already satisfied: matplotlib!=3.6.1,>=3.4 in c:\\programdata\\anaconda3\\lib\\site-packages (from seaborn) (3.10.0)\n",
      "Requirement already satisfied: contourpy>=1.0.1 in c:\\programdata\\anaconda3\\lib\\site-packages (from matplotlib!=3.6.1,>=3.4->seaborn) (1.2.0)\n",
      "Requirement already satisfied: cycler>=0.10 in c:\\programdata\\anaconda3\\lib\\site-packages (from matplotlib!=3.6.1,>=3.4->seaborn) (0.11.0)\n",
      "Requirement already satisfied: fonttools>=4.22.0 in c:\\programdata\\anaconda3\\lib\\site-packages (from matplotlib!=3.6.1,>=3.4->seaborn) (4.51.0)\n",
      "Requirement already satisfied: kiwisolver>=1.3.1 in c:\\programdata\\anaconda3\\lib\\site-packages (from matplotlib!=3.6.1,>=3.4->seaborn) (1.4.4)\n",
      "Requirement already satisfied: packaging>=20.0 in c:\\programdata\\anaconda3\\lib\\site-packages (from matplotlib!=3.6.1,>=3.4->seaborn) (24.1)\n",
      "Requirement already satisfied: pillow>=8 in c:\\programdata\\anaconda3\\lib\\site-packages (from matplotlib!=3.6.1,>=3.4->seaborn) (10.4.0)\n",
      "Requirement already satisfied: pyparsing>=2.3.1 in c:\\programdata\\anaconda3\\lib\\site-packages (from matplotlib!=3.6.1,>=3.4->seaborn) (3.1.2)\n",
      "Requirement already satisfied: python-dateutil>=2.7 in c:\\programdata\\anaconda3\\lib\\site-packages (from matplotlib!=3.6.1,>=3.4->seaborn) (2.9.0.post0)\n",
      "Requirement already satisfied: pytz>=2020.1 in c:\\programdata\\anaconda3\\lib\\site-packages (from pandas>=1.2->seaborn) (2024.1)\n",
      "Requirement already satisfied: tzdata>=2022.7 in c:\\programdata\\anaconda3\\lib\\site-packages (from pandas>=1.2->seaborn) (2023.3)\n",
      "Requirement already satisfied: six>=1.5 in c:\\programdata\\anaconda3\\lib\\site-packages (from python-dateutil>=2.7->matplotlib!=3.6.1,>=3.4->seaborn) (1.16.0)\n",
      "Note: you may need to restart the kernel to use updated packages.\n",
      "Requirement already satisfied: scikit-learn in c:\\programdata\\anaconda3\\lib\\site-packages (1.5.1)\n",
      "Requirement already satisfied: numpy>=1.19.5 in c:\\programdata\\anaconda3\\lib\\site-packages (from scikit-learn) (1.26.4)\n",
      "Requirement already satisfied: scipy>=1.6.0 in c:\\programdata\\anaconda3\\lib\\site-packages (from scikit-learn) (1.13.1)\n",
      "Requirement already satisfied: joblib>=1.2.0 in c:\\programdata\\anaconda3\\lib\\site-packages (from scikit-learn) (1.4.2)\n",
      "Requirement already satisfied: threadpoolctl>=3.1.0 in c:\\programdata\\anaconda3\\lib\\site-packages (from scikit-learn) (3.5.0)\n",
      "Note: you may need to restart the kernel to use updated packages.\n",
      "Requirement already satisfied: xgboost in c:\\programdata\\anaconda3\\lib\\site-packages (3.0.2)\n",
      "Requirement already satisfied: numpy in c:\\programdata\\anaconda3\\lib\\site-packages (from xgboost) (1.26.4)\n",
      "Requirement already satisfied: scipy in c:\\programdata\\anaconda3\\lib\\site-packages (from xgboost) (1.13.1)\n",
      "Note: you may need to restart the kernel to use updated packages.\n"
     ]
    }
   ],
   "source": [
    "%pip install pandas\n",
    "%pip install numpy\n",
    "%pip install matplotlib\n",
    "%pip install seaborn\n",
    "%pip install scikit-learn\n",
    "%pip install xgboost"
   ]
  },
  {
   "cell_type": "code",
   "execution_count": 2,
   "metadata": {
    "ExecuteTime": {
     "end_time": "2025-05-31T23:02:35.035130Z",
     "start_time": "2025-05-31T23:02:34.677085Z"
    },
    "id": "59ooZ8K1fg1r"
   },
   "outputs": [],
   "source": [
    "import os\n",
    "import pandas as pd\n",
    "import numpy as np\n",
    "import matplotlib.pyplot as plt\n",
    "import seaborn as sns\n",
    "import scipy.stats as stats\n",
    "from sklearn.model_selection import train_test_split\n",
    "from sklearn.linear_model import LinearRegression\n",
    "from sklearn.metrics import mean_squared_error, r2_score"
   ]
  },
  {
   "cell_type": "code",
   "execution_count": 3,
   "metadata": {
    "ExecuteTime": {
     "end_time": "2025-05-31T23:02:35.303209Z",
     "start_time": "2025-05-31T23:02:35.298374Z"
    }
   },
   "outputs": [],
   "source": [
    "plt.rcParams.update({'font.size': 11})   # Set the default font size for plots"
   ]
  },
  {
   "cell_type": "markdown",
   "metadata": {
    "id": "tIdWLYPDgl5G"
   },
   "source": [
    "<h1 style=\"color:blue\">1. Load DatasSet"
   ]
  },
  {
   "cell_type": "code",
   "execution_count": 4,
   "metadata": {
    "ExecuteTime": {
     "end_time": "2025-05-31T23:02:35.325459Z",
     "start_time": "2025-05-31T23:02:35.320946Z"
    }
   },
   "outputs": [
    {
     "name": "stdout",
     "output_type": "stream",
     "text": [
      "C:\\Users\\DFigurado\n"
     ]
    }
   ],
   "source": [
    "print(os.getcwd())"
   ]
  },
  {
   "cell_type": "code",
   "execution_count": 5,
   "metadata": {
    "ExecuteTime": {
     "end_time": "2025-05-31T23:02:35.699888Z",
     "start_time": "2025-05-31T23:02:35.465578Z"
    },
    "colab": {
     "base_uri": "https://localhost:8080/",
     "height": 424
    },
    "id": "j6LBvBESfqPO",
    "outputId": "cefa4778-41af-42c0-cb8d-1cad5d11e3e4"
   },
   "outputs": [
    {
     "data": {
      "text/html": [
       "<div>\n",
       "<style scoped>\n",
       "    .dataframe tbody tr th:only-of-type {\n",
       "        vertical-align: middle;\n",
       "    }\n",
       "\n",
       "    .dataframe tbody tr th {\n",
       "        vertical-align: top;\n",
       "    }\n",
       "\n",
       "    .dataframe thead th {\n",
       "        text-align: right;\n",
       "    }\n",
       "</style>\n",
       "<table border=\"1\" class=\"dataframe\">\n",
       "  <thead>\n",
       "    <tr style=\"text-align: right;\">\n",
       "      <th></th>\n",
       "      <th>PatientId</th>\n",
       "      <th>AppointmentID</th>\n",
       "      <th>Gender</th>\n",
       "      <th>ScheduledDay</th>\n",
       "      <th>AppointmentDay</th>\n",
       "      <th>Age</th>\n",
       "      <th>Neighbourhood</th>\n",
       "      <th>Scholarship</th>\n",
       "      <th>Hipertension</th>\n",
       "      <th>Diabetes</th>\n",
       "      <th>Alcoholism</th>\n",
       "      <th>Handcap</th>\n",
       "      <th>SMS_received</th>\n",
       "      <th>No-show</th>\n",
       "    </tr>\n",
       "  </thead>\n",
       "  <tbody>\n",
       "    <tr>\n",
       "      <th>0</th>\n",
       "      <td>2.987250e+13</td>\n",
       "      <td>5642903</td>\n",
       "      <td>F</td>\n",
       "      <td>2016-04-29T18:38:08Z</td>\n",
       "      <td>2016-04-29T00:00:00Z</td>\n",
       "      <td>62</td>\n",
       "      <td>JARDIM DA PENHA</td>\n",
       "      <td>0</td>\n",
       "      <td>1</td>\n",
       "      <td>0</td>\n",
       "      <td>0</td>\n",
       "      <td>0</td>\n",
       "      <td>0</td>\n",
       "      <td>No</td>\n",
       "    </tr>\n",
       "    <tr>\n",
       "      <th>1</th>\n",
       "      <td>5.589978e+14</td>\n",
       "      <td>5642503</td>\n",
       "      <td>M</td>\n",
       "      <td>2016-04-29T16:08:27Z</td>\n",
       "      <td>2016-04-29T00:00:00Z</td>\n",
       "      <td>56</td>\n",
       "      <td>JARDIM DA PENHA</td>\n",
       "      <td>0</td>\n",
       "      <td>0</td>\n",
       "      <td>0</td>\n",
       "      <td>0</td>\n",
       "      <td>0</td>\n",
       "      <td>0</td>\n",
       "      <td>No</td>\n",
       "    </tr>\n",
       "    <tr>\n",
       "      <th>2</th>\n",
       "      <td>4.262962e+12</td>\n",
       "      <td>5642549</td>\n",
       "      <td>F</td>\n",
       "      <td>2016-04-29T16:19:04Z</td>\n",
       "      <td>2016-04-29T00:00:00Z</td>\n",
       "      <td>62</td>\n",
       "      <td>MATA DA PRAIA</td>\n",
       "      <td>0</td>\n",
       "      <td>0</td>\n",
       "      <td>0</td>\n",
       "      <td>0</td>\n",
       "      <td>0</td>\n",
       "      <td>0</td>\n",
       "      <td>No</td>\n",
       "    </tr>\n",
       "    <tr>\n",
       "      <th>3</th>\n",
       "      <td>8.679512e+11</td>\n",
       "      <td>5642828</td>\n",
       "      <td>F</td>\n",
       "      <td>2016-04-29T17:29:31Z</td>\n",
       "      <td>2016-04-29T00:00:00Z</td>\n",
       "      <td>8</td>\n",
       "      <td>PONTAL DE CAMBURI</td>\n",
       "      <td>0</td>\n",
       "      <td>0</td>\n",
       "      <td>0</td>\n",
       "      <td>0</td>\n",
       "      <td>0</td>\n",
       "      <td>0</td>\n",
       "      <td>No</td>\n",
       "    </tr>\n",
       "    <tr>\n",
       "      <th>4</th>\n",
       "      <td>8.841186e+12</td>\n",
       "      <td>5642494</td>\n",
       "      <td>F</td>\n",
       "      <td>2016-04-29T16:07:23Z</td>\n",
       "      <td>2016-04-29T00:00:00Z</td>\n",
       "      <td>56</td>\n",
       "      <td>JARDIM DA PENHA</td>\n",
       "      <td>0</td>\n",
       "      <td>1</td>\n",
       "      <td>1</td>\n",
       "      <td>0</td>\n",
       "      <td>0</td>\n",
       "      <td>0</td>\n",
       "      <td>No</td>\n",
       "    </tr>\n",
       "    <tr>\n",
       "      <th>...</th>\n",
       "      <td>...</td>\n",
       "      <td>...</td>\n",
       "      <td>...</td>\n",
       "      <td>...</td>\n",
       "      <td>...</td>\n",
       "      <td>...</td>\n",
       "      <td>...</td>\n",
       "      <td>...</td>\n",
       "      <td>...</td>\n",
       "      <td>...</td>\n",
       "      <td>...</td>\n",
       "      <td>...</td>\n",
       "      <td>...</td>\n",
       "      <td>...</td>\n",
       "    </tr>\n",
       "    <tr>\n",
       "      <th>110522</th>\n",
       "      <td>2.572134e+12</td>\n",
       "      <td>5651768</td>\n",
       "      <td>F</td>\n",
       "      <td>2016-05-03T09:15:35Z</td>\n",
       "      <td>2016-06-07T00:00:00Z</td>\n",
       "      <td>56</td>\n",
       "      <td>MARIA ORTIZ</td>\n",
       "      <td>0</td>\n",
       "      <td>0</td>\n",
       "      <td>0</td>\n",
       "      <td>0</td>\n",
       "      <td>0</td>\n",
       "      <td>1</td>\n",
       "      <td>No</td>\n",
       "    </tr>\n",
       "    <tr>\n",
       "      <th>110523</th>\n",
       "      <td>3.596266e+12</td>\n",
       "      <td>5650093</td>\n",
       "      <td>F</td>\n",
       "      <td>2016-05-03T07:27:33Z</td>\n",
       "      <td>2016-06-07T00:00:00Z</td>\n",
       "      <td>51</td>\n",
       "      <td>MARIA ORTIZ</td>\n",
       "      <td>0</td>\n",
       "      <td>0</td>\n",
       "      <td>0</td>\n",
       "      <td>0</td>\n",
       "      <td>0</td>\n",
       "      <td>1</td>\n",
       "      <td>No</td>\n",
       "    </tr>\n",
       "    <tr>\n",
       "      <th>110524</th>\n",
       "      <td>1.557663e+13</td>\n",
       "      <td>5630692</td>\n",
       "      <td>F</td>\n",
       "      <td>2016-04-27T16:03:52Z</td>\n",
       "      <td>2016-06-07T00:00:00Z</td>\n",
       "      <td>21</td>\n",
       "      <td>MARIA ORTIZ</td>\n",
       "      <td>0</td>\n",
       "      <td>0</td>\n",
       "      <td>0</td>\n",
       "      <td>0</td>\n",
       "      <td>0</td>\n",
       "      <td>1</td>\n",
       "      <td>No</td>\n",
       "    </tr>\n",
       "    <tr>\n",
       "      <th>110525</th>\n",
       "      <td>9.213493e+13</td>\n",
       "      <td>5630323</td>\n",
       "      <td>F</td>\n",
       "      <td>2016-04-27T15:09:23Z</td>\n",
       "      <td>2016-06-07T00:00:00Z</td>\n",
       "      <td>38</td>\n",
       "      <td>MARIA ORTIZ</td>\n",
       "      <td>0</td>\n",
       "      <td>0</td>\n",
       "      <td>0</td>\n",
       "      <td>0</td>\n",
       "      <td>0</td>\n",
       "      <td>1</td>\n",
       "      <td>No</td>\n",
       "    </tr>\n",
       "    <tr>\n",
       "      <th>110526</th>\n",
       "      <td>3.775115e+14</td>\n",
       "      <td>5629448</td>\n",
       "      <td>F</td>\n",
       "      <td>2016-04-27T13:30:56Z</td>\n",
       "      <td>2016-06-07T00:00:00Z</td>\n",
       "      <td>54</td>\n",
       "      <td>MARIA ORTIZ</td>\n",
       "      <td>0</td>\n",
       "      <td>0</td>\n",
       "      <td>0</td>\n",
       "      <td>0</td>\n",
       "      <td>0</td>\n",
       "      <td>1</td>\n",
       "      <td>No</td>\n",
       "    </tr>\n",
       "  </tbody>\n",
       "</table>\n",
       "<p>110527 rows × 14 columns</p>\n",
       "</div>"
      ],
      "text/plain": [
       "           PatientId  AppointmentID Gender          ScheduledDay  \\\n",
       "0       2.987250e+13        5642903      F  2016-04-29T18:38:08Z   \n",
       "1       5.589978e+14        5642503      M  2016-04-29T16:08:27Z   \n",
       "2       4.262962e+12        5642549      F  2016-04-29T16:19:04Z   \n",
       "3       8.679512e+11        5642828      F  2016-04-29T17:29:31Z   \n",
       "4       8.841186e+12        5642494      F  2016-04-29T16:07:23Z   \n",
       "...              ...            ...    ...                   ...   \n",
       "110522  2.572134e+12        5651768      F  2016-05-03T09:15:35Z   \n",
       "110523  3.596266e+12        5650093      F  2016-05-03T07:27:33Z   \n",
       "110524  1.557663e+13        5630692      F  2016-04-27T16:03:52Z   \n",
       "110525  9.213493e+13        5630323      F  2016-04-27T15:09:23Z   \n",
       "110526  3.775115e+14        5629448      F  2016-04-27T13:30:56Z   \n",
       "\n",
       "              AppointmentDay  Age      Neighbourhood  Scholarship  \\\n",
       "0       2016-04-29T00:00:00Z   62    JARDIM DA PENHA            0   \n",
       "1       2016-04-29T00:00:00Z   56    JARDIM DA PENHA            0   \n",
       "2       2016-04-29T00:00:00Z   62      MATA DA PRAIA            0   \n",
       "3       2016-04-29T00:00:00Z    8  PONTAL DE CAMBURI            0   \n",
       "4       2016-04-29T00:00:00Z   56    JARDIM DA PENHA            0   \n",
       "...                      ...  ...                ...          ...   \n",
       "110522  2016-06-07T00:00:00Z   56        MARIA ORTIZ            0   \n",
       "110523  2016-06-07T00:00:00Z   51        MARIA ORTIZ            0   \n",
       "110524  2016-06-07T00:00:00Z   21        MARIA ORTIZ            0   \n",
       "110525  2016-06-07T00:00:00Z   38        MARIA ORTIZ            0   \n",
       "110526  2016-06-07T00:00:00Z   54        MARIA ORTIZ            0   \n",
       "\n",
       "        Hipertension  Diabetes  Alcoholism  Handcap  SMS_received No-show  \n",
       "0                  1         0           0        0             0      No  \n",
       "1                  0         0           0        0             0      No  \n",
       "2                  0         0           0        0             0      No  \n",
       "3                  0         0           0        0             0      No  \n",
       "4                  1         1           0        0             0      No  \n",
       "...              ...       ...         ...      ...           ...     ...  \n",
       "110522             0         0           0        0             1      No  \n",
       "110523             0         0           0        0             1      No  \n",
       "110524             0         0           0        0             1      No  \n",
       "110525             0         0           0        0             1      No  \n",
       "110526             0         0           0        0             1      No  \n",
       "\n",
       "[110527 rows x 14 columns]"
      ]
     },
     "execution_count": 5,
     "metadata": {},
     "output_type": "execute_result"
    }
   ],
   "source": [
    "df_raw = pd.read_csv(\"C:/Research/Msc/CMM709/CAUSALITY-EXPLORE/data/raw/medical_appointment_no_show.csv\")\n",
    "df_raw"
   ]
  },
  {
   "cell_type": "markdown",
   "metadata": {},
   "source": [
    "<h1 style=\"color:blue\">2. Initial Exploration of the Dataset.</h1>"
   ]
  },
  {
   "cell_type": "markdown",
   "metadata": {},
   "source": [
    "<h2 style=\"color:yellow\"> 2.1 Data Types associated with each column</h2>"
   ]
  },
  {
   "cell_type": "code",
   "execution_count": 6,
   "metadata": {
    "ExecuteTime": {
     "end_time": "2025-05-31T23:02:35.791389Z",
     "start_time": "2025-05-31T23:02:35.758667Z"
    },
    "colab": {
     "base_uri": "https://localhost:8080/"
    },
    "id": "QBn-qCYahGPi",
    "outputId": "1d0fe654-444b-4751-d914-d87c843324e8"
   },
   "outputs": [
    {
     "name": "stdout",
     "output_type": "stream",
     "text": [
      "<class 'pandas.core.frame.DataFrame'>\n",
      "RangeIndex: 110527 entries, 0 to 110526\n",
      "Data columns (total 14 columns):\n",
      " #   Column          Non-Null Count   Dtype  \n",
      "---  ------          --------------   -----  \n",
      " 0   PatientId       110527 non-null  float64\n",
      " 1   AppointmentID   110527 non-null  int64  \n",
      " 2   Gender          110527 non-null  object \n",
      " 3   ScheduledDay    110527 non-null  object \n",
      " 4   AppointmentDay  110527 non-null  object \n",
      " 5   Age             110527 non-null  int64  \n",
      " 6   Neighbourhood   110527 non-null  object \n",
      " 7   Scholarship     110527 non-null  int64  \n",
      " 8   Hipertension    110527 non-null  int64  \n",
      " 9   Diabetes        110527 non-null  int64  \n",
      " 10  Alcoholism      110527 non-null  int64  \n",
      " 11  Handcap         110527 non-null  int64  \n",
      " 12  SMS_received    110527 non-null  int64  \n",
      " 13  No-show         110527 non-null  object \n",
      "dtypes: float64(1), int64(8), object(5)\n",
      "memory usage: 11.8+ MB\n",
      "Data types of Columns None\n",
      "Column Names:  ['PatientId', 'AppointmentID', 'Gender', 'ScheduledDay', 'AppointmentDay', 'Age', 'Neighbourhood', 'Scholarship', 'Hipertension', 'Diabetes', 'Alcoholism', 'Handcap', 'SMS_received', 'No-show']\n"
     ]
    }
   ],
   "source": [
    "# Data Types of each column\n",
    "print(f\"Data types of Columns\",df_raw.info())\n",
    "print(f\"Column Names: \", df_raw.columns.to_list())"
   ]
  },
  {
   "cell_type": "markdown",
   "metadata": {},
   "source": [
    "Column needs to be transformed to appropriate data types.\n",
    "- The columns -> `Scholarship`,`Hypertension`,`Diabetes`,`Alcoholism`, `Alcoholism` can be identifies as `boolean` and should be converted to bool type.\n",
    "- The columns -> `Gender` and `Handicap` need to transformed to category type.\n",
    "- The `day` column need to be transformed to datetime type.\n",
    "- `Neighbourhood` needs further investigation to identify the type of data it contains.\n",
    "\n",
    "From the above information of the DataFrame and the sample data we can see that there are 14 columns in total.\n",
    "\n",
    "- There are 13 independent Variables -> [`PatientId`,`AppointmentID`,`Gender`,`ScheduleDay`,`AppointmentDay`,`Age`,`Neighbourhood`,`Scholarship`,`Hipertension`,`Diabetes`,'Alcoholism`,'Handcap`,`SMSReceived`]\n",
    "- The Dependent Variable is -> [`NoShow`]\n",
    "- The independent variables -> [`PatientId`,`AppointmentID`] are system generated numbers and shouldn't be used for prediction dependant variable. hence will be dropped."
   ]
  },
  {
   "cell_type": "markdown",
   "metadata": {},
   "source": [
    "<h2 style=\"color:yellow\"> 2.2 Shape of the dataframe, number of rows and columns.</h2>"
   ]
  },
  {
   "cell_type": "code",
   "execution_count": 7,
   "metadata": {
    "ExecuteTime": {
     "end_time": "2025-05-31T23:02:35.951605Z",
     "start_time": "2025-05-31T23:02:35.947350Z"
    },
    "colab": {
     "base_uri": "https://localhost:8080/"
    },
    "id": "s3LyTQbVhugi",
    "outputId": "7d325583-df6c-409d-cfdf-2329a97e8bcd"
   },
   "outputs": [
    {
     "name": "stdout",
     "output_type": "stream",
     "text": [
      "Shape of the dataframe - Rows:  110527\n",
      "Shape of the dataframe - Columns:  14\n"
     ]
    }
   ],
   "source": [
    "print(f\"Shape of the dataframe - Rows: \", df_raw.shape[0])\n",
    "print(f\"Shape of the dataframe - Columns: \", df_raw.shape[1])"
   ]
  },
  {
   "cell_type": "markdown",
   "metadata": {
    "id": "_lsH5caTib9k"
   },
   "source": [
    "<h2 style=\"color:yellow\">2.3 Check for `null` and `missing` values.</h2>"
   ]
  },
  {
   "cell_type": "code",
   "execution_count": 8,
   "metadata": {
    "ExecuteTime": {
     "end_time": "2025-05-31T23:02:36.446850Z",
     "start_time": "2025-05-31T23:02:36.401466Z"
    },
    "colab": {
     "base_uri": "https://localhost:8080/"
    },
    "id": "PhXQkXkSieF_",
    "outputId": "23ff0b08-ddd9-4ba6-ca2f-c801db4670d5"
   },
   "outputs": [
    {
     "name": "stdout",
     "output_type": "stream",
     "text": [
      "Null values in the dataframe:\n",
      " PatientId         0\n",
      "AppointmentID     0\n",
      "Gender            0\n",
      "ScheduledDay      0\n",
      "AppointmentDay    0\n",
      "Age               0\n",
      "Neighbourhood     0\n",
      "Scholarship       0\n",
      "Hipertension      0\n",
      "Diabetes          0\n",
      "Alcoholism        0\n",
      "Handcap           0\n",
      "SMS_received      0\n",
      "No-show           0\n",
      "dtype: int64\n",
      "Missing values in the dataframe:\n",
      " PatientId         0\n",
      "AppointmentID     0\n",
      "Gender            0\n",
      "ScheduledDay      0\n",
      "AppointmentDay    0\n",
      "Age               0\n",
      "Neighbourhood     0\n",
      "Scholarship       0\n",
      "Hipertension      0\n",
      "Diabetes          0\n",
      "Alcoholism        0\n",
      "Handcap           0\n",
      "SMS_received      0\n",
      "No-show           0\n",
      "dtype: int64\n"
     ]
    }
   ],
   "source": [
    "print(f\"Null values in the dataframe:\\n\", df_raw.isnull().sum())\n",
    "print(f\"Missing values in the dataframe:\\n\", df_raw.isna().sum())"
   ]
  },
  {
   "cell_type": "markdown",
   "metadata": {
    "id": "eZtJX3ujihVo"
   },
   "source": [
    "<h2 style=\"color:yellow\">2.4 Describe the Data</h2>"
   ]
  },
  {
   "cell_type": "code",
   "execution_count": 9,
   "metadata": {
    "ExecuteTime": {
     "end_time": "2025-05-31T23:02:36.544274Z",
     "start_time": "2025-05-31T23:02:36.496845Z"
    },
    "colab": {
     "base_uri": "https://localhost:8080/",
     "height": 300
    },
    "id": "Pmeuj2lPijaV",
    "outputId": "1ca5c886-d064-405f-9a53-f2791d4fbcf1"
   },
   "outputs": [
    {
     "data": {
      "text/html": [
       "<div>\n",
       "<style scoped>\n",
       "    .dataframe tbody tr th:only-of-type {\n",
       "        vertical-align: middle;\n",
       "    }\n",
       "\n",
       "    .dataframe tbody tr th {\n",
       "        vertical-align: top;\n",
       "    }\n",
       "\n",
       "    .dataframe thead th {\n",
       "        text-align: right;\n",
       "    }\n",
       "</style>\n",
       "<table border=\"1\" class=\"dataframe\">\n",
       "  <thead>\n",
       "    <tr style=\"text-align: right;\">\n",
       "      <th></th>\n",
       "      <th>PatientId</th>\n",
       "      <th>AppointmentID</th>\n",
       "      <th>Age</th>\n",
       "      <th>Scholarship</th>\n",
       "      <th>Hipertension</th>\n",
       "      <th>Diabetes</th>\n",
       "      <th>Alcoholism</th>\n",
       "      <th>Handcap</th>\n",
       "      <th>SMS_received</th>\n",
       "    </tr>\n",
       "  </thead>\n",
       "  <tbody>\n",
       "    <tr>\n",
       "      <th>count</th>\n",
       "      <td>1.105270e+05</td>\n",
       "      <td>1.105270e+05</td>\n",
       "      <td>110527.000000</td>\n",
       "      <td>110527.000000</td>\n",
       "      <td>110527.000000</td>\n",
       "      <td>110527.000000</td>\n",
       "      <td>110527.000000</td>\n",
       "      <td>110527.000000</td>\n",
       "      <td>110527.000000</td>\n",
       "    </tr>\n",
       "    <tr>\n",
       "      <th>mean</th>\n",
       "      <td>1.474963e+14</td>\n",
       "      <td>5.675305e+06</td>\n",
       "      <td>37.088874</td>\n",
       "      <td>0.098266</td>\n",
       "      <td>0.197246</td>\n",
       "      <td>0.071865</td>\n",
       "      <td>0.030400</td>\n",
       "      <td>0.022248</td>\n",
       "      <td>0.321026</td>\n",
       "    </tr>\n",
       "    <tr>\n",
       "      <th>std</th>\n",
       "      <td>2.560949e+14</td>\n",
       "      <td>7.129575e+04</td>\n",
       "      <td>23.110205</td>\n",
       "      <td>0.297675</td>\n",
       "      <td>0.397921</td>\n",
       "      <td>0.258265</td>\n",
       "      <td>0.171686</td>\n",
       "      <td>0.161543</td>\n",
       "      <td>0.466873</td>\n",
       "    </tr>\n",
       "    <tr>\n",
       "      <th>min</th>\n",
       "      <td>3.921784e+04</td>\n",
       "      <td>5.030230e+06</td>\n",
       "      <td>-1.000000</td>\n",
       "      <td>0.000000</td>\n",
       "      <td>0.000000</td>\n",
       "      <td>0.000000</td>\n",
       "      <td>0.000000</td>\n",
       "      <td>0.000000</td>\n",
       "      <td>0.000000</td>\n",
       "    </tr>\n",
       "    <tr>\n",
       "      <th>25%</th>\n",
       "      <td>4.172614e+12</td>\n",
       "      <td>5.640286e+06</td>\n",
       "      <td>18.000000</td>\n",
       "      <td>0.000000</td>\n",
       "      <td>0.000000</td>\n",
       "      <td>0.000000</td>\n",
       "      <td>0.000000</td>\n",
       "      <td>0.000000</td>\n",
       "      <td>0.000000</td>\n",
       "    </tr>\n",
       "    <tr>\n",
       "      <th>50%</th>\n",
       "      <td>3.173184e+13</td>\n",
       "      <td>5.680573e+06</td>\n",
       "      <td>37.000000</td>\n",
       "      <td>0.000000</td>\n",
       "      <td>0.000000</td>\n",
       "      <td>0.000000</td>\n",
       "      <td>0.000000</td>\n",
       "      <td>0.000000</td>\n",
       "      <td>0.000000</td>\n",
       "    </tr>\n",
       "    <tr>\n",
       "      <th>75%</th>\n",
       "      <td>9.439172e+13</td>\n",
       "      <td>5.725524e+06</td>\n",
       "      <td>55.000000</td>\n",
       "      <td>0.000000</td>\n",
       "      <td>0.000000</td>\n",
       "      <td>0.000000</td>\n",
       "      <td>0.000000</td>\n",
       "      <td>0.000000</td>\n",
       "      <td>1.000000</td>\n",
       "    </tr>\n",
       "    <tr>\n",
       "      <th>max</th>\n",
       "      <td>9.999816e+14</td>\n",
       "      <td>5.790484e+06</td>\n",
       "      <td>115.000000</td>\n",
       "      <td>1.000000</td>\n",
       "      <td>1.000000</td>\n",
       "      <td>1.000000</td>\n",
       "      <td>1.000000</td>\n",
       "      <td>4.000000</td>\n",
       "      <td>1.000000</td>\n",
       "    </tr>\n",
       "  </tbody>\n",
       "</table>\n",
       "</div>"
      ],
      "text/plain": [
       "          PatientId  AppointmentID            Age    Scholarship  \\\n",
       "count  1.105270e+05   1.105270e+05  110527.000000  110527.000000   \n",
       "mean   1.474963e+14   5.675305e+06      37.088874       0.098266   \n",
       "std    2.560949e+14   7.129575e+04      23.110205       0.297675   \n",
       "min    3.921784e+04   5.030230e+06      -1.000000       0.000000   \n",
       "25%    4.172614e+12   5.640286e+06      18.000000       0.000000   \n",
       "50%    3.173184e+13   5.680573e+06      37.000000       0.000000   \n",
       "75%    9.439172e+13   5.725524e+06      55.000000       0.000000   \n",
       "max    9.999816e+14   5.790484e+06     115.000000       1.000000   \n",
       "\n",
       "        Hipertension       Diabetes     Alcoholism        Handcap  \\\n",
       "count  110527.000000  110527.000000  110527.000000  110527.000000   \n",
       "mean        0.197246       0.071865       0.030400       0.022248   \n",
       "std         0.397921       0.258265       0.171686       0.161543   \n",
       "min         0.000000       0.000000       0.000000       0.000000   \n",
       "25%         0.000000       0.000000       0.000000       0.000000   \n",
       "50%         0.000000       0.000000       0.000000       0.000000   \n",
       "75%         0.000000       0.000000       0.000000       0.000000   \n",
       "max         1.000000       1.000000       1.000000       4.000000   \n",
       "\n",
       "        SMS_received  \n",
       "count  110527.000000  \n",
       "mean        0.321026  \n",
       "std         0.466873  \n",
       "min         0.000000  \n",
       "25%         0.000000  \n",
       "50%         0.000000  \n",
       "75%         1.000000  \n",
       "max         1.000000  "
      ]
     },
     "execution_count": 9,
     "metadata": {},
     "output_type": "execute_result"
    }
   ],
   "source": [
    "df_raw.describe()"
   ]
  },
  {
   "cell_type": "markdown",
   "metadata": {
    "id": "92b3g8i8LmGx"
   },
   "source": [
    "As there is only 1 patient with Age less than 0 we will delete that record assuming that this as an human introduced error."
   ]
  },
  {
   "cell_type": "markdown",
   "metadata": {
    "id": "QICy4Vvjix8U"
   },
   "source": [
    "<h2 style=\"color:yellow\">2.5 Print Unique values for `Age` column.</h2>"
   ]
  },
  {
   "cell_type": "code",
   "execution_count": 10,
   "metadata": {
    "ExecuteTime": {
     "end_time": "2025-05-31T23:02:36.695449Z",
     "start_time": "2025-05-31T23:02:36.689463Z"
    },
    "colab": {
     "base_uri": "https://localhost:8080/"
    },
    "id": "2WTdNBPNi8JU",
    "outputId": "d0945909-3d57-46f6-f993-faabfe736952"
   },
   "outputs": [
    {
     "name": "stdout",
     "output_type": "stream",
     "text": [
      "Unique values in the `Age` column => [ 62  56   8  76  23  39  21  19  30  29  22  28  54  15  50  40  46   4\n",
      "  13  65  45  51  32  12  61  38  79  18  63  64  85  59  55  71  49  78\n",
      "  31  58  27   6   2  11   7   0   3   1  69  68  60  67  36  10  35  20\n",
      "  26  34  33  16  42   5  47  17  41  44  37  24  66  77  81  70  53  75\n",
      "  73  52  74  43  89  57  14   9  48  83  72  25  80  87  88  84  82  90\n",
      "  94  86  91  98  92  96  93  95  97 102 115 100  99  -1]\n"
     ]
    }
   ],
   "source": [
    "print(\"Unique values in the `Age` column => {}\".format(df_raw.Age.unique()))"
   ]
  },
  {
   "cell_type": "markdown",
   "metadata": {},
   "source": [
    "<h2 style=\"color:yellow\">2.6 Print Unique values for `AppentmentDay` column.</h2>"
   ]
  },
  {
   "cell_type": "code",
   "execution_count": 11,
   "metadata": {
    "ExecuteTime": {
     "end_time": "2025-05-31T23:02:36.887153Z",
     "start_time": "2025-05-31T23:02:36.872871Z"
    }
   },
   "outputs": [
    {
     "name": "stdout",
     "output_type": "stream",
     "text": [
      "Unique values in the `AppointmentDay` column => ['2016-04-29T00:00:00Z' '2016-05-03T00:00:00Z' '2016-05-10T00:00:00Z'\n",
      " '2016-05-17T00:00:00Z' '2016-05-24T00:00:00Z' '2016-05-31T00:00:00Z'\n",
      " '2016-05-02T00:00:00Z' '2016-05-30T00:00:00Z' '2016-05-16T00:00:00Z'\n",
      " '2016-05-04T00:00:00Z' '2016-05-19T00:00:00Z' '2016-05-12T00:00:00Z'\n",
      " '2016-05-06T00:00:00Z' '2016-05-20T00:00:00Z' '2016-05-05T00:00:00Z'\n",
      " '2016-05-13T00:00:00Z' '2016-05-09T00:00:00Z' '2016-05-25T00:00:00Z'\n",
      " '2016-05-11T00:00:00Z' '2016-05-18T00:00:00Z' '2016-05-14T00:00:00Z'\n",
      " '2016-06-02T00:00:00Z' '2016-06-03T00:00:00Z' '2016-06-06T00:00:00Z'\n",
      " '2016-06-07T00:00:00Z' '2016-06-01T00:00:00Z' '2016-06-08T00:00:00Z']\n"
     ]
    }
   ],
   "source": [
    "print(\"Unique values in the `AppointmentDay` column => {}\".format(df_raw.AppointmentDay.unique()))"
   ]
  },
  {
   "cell_type": "markdown",
   "metadata": {},
   "source": [
    "<h2 style=\"color:yellow\"> 2.7 Print Unique values for `ScheduledDay` column.</h2>"
   ]
  },
  {
   "cell_type": "code",
   "execution_count": 12,
   "metadata": {
    "ExecuteTime": {
     "end_time": "2025-05-31T23:02:37.044408Z",
     "start_time": "2025-05-31T23:02:37.017093Z"
    }
   },
   "outputs": [
    {
     "name": "stdout",
     "output_type": "stream",
     "text": [
      "Unique values in the `ScheduledDay` column => ['2016-04-29T18:38:08Z' '2016-04-29T16:08:27Z' '2016-04-29T16:19:04Z' ...\n",
      " '2016-04-27T16:03:52Z' '2016-04-27T15:09:23Z' '2016-04-27T13:30:56Z']\n"
     ]
    }
   ],
   "source": [
    "print(\"Unique values in the `ScheduledDay` column => {}\".format(df_raw.ScheduledDay.unique()))"
   ]
  },
  {
   "cell_type": "markdown",
   "metadata": {},
   "source": [
    "<h2 style=\"color:yellow\">2.8 Print Unique values for `Neighbourhood` column.</h2>"
   ]
  },
  {
   "cell_type": "code",
   "execution_count": 13,
   "metadata": {
    "ExecuteTime": {
     "end_time": "2025-05-31T23:02:37.208967Z",
     "start_time": "2025-05-31T23:02:37.194370Z"
    }
   },
   "outputs": [
    {
     "name": "stdout",
     "output_type": "stream",
     "text": [
      "Neighbourhood\n",
      "JARDIM CAMBURI                 7717\n",
      "MARIA ORTIZ                    5805\n",
      "RESISTÊNCIA                    4431\n",
      "JARDIM DA PENHA                3877\n",
      "ITARARÉ                        3514\n",
      "                               ... \n",
      "ILHA DO BOI                      35\n",
      "ILHA DO FRADE                    10\n",
      "AEROPORTO                         8\n",
      "ILHAS OCEÂNICAS DE TRINDADE       2\n",
      "PARQUE INDUSTRIAL                 1\n",
      "Name: count, Length: 81, dtype: int64\n"
     ]
    }
   ],
   "source": [
    "print(df_raw['Neighbourhood'].value_counts())"
   ]
  },
  {
   "cell_type": "markdown",
   "metadata": {
    "id": "mYQhRk29w7q7"
   },
   "source": [
    "<h2 style=\"color:yellow\">2.9 Data Cleaning</h2>"
   ]
  },
  {
   "cell_type": "markdown",
   "metadata": {
    "id": "PkP4Fo6evtSX"
   },
   "source": [
    "#### Quality Observations\n",
    "\n",
    "- Data Quality: All columns are present and without any missing values.\n",
    "- Data Types:\n",
    "   - PatientId and AppointmentID are of type `float`, but they should be `int64`\n",
    "   - Datas should be converted from `object` to `datetime`.\n",
    "      - We remove <i>time</i> from <i>AppointmentDay's</i> timestamp we will do a similar thing for <i>ScheduledDay's</i> also. (Ideally, the Time in AppointmentDay column will help us better rather than in the <i>ScheduledDay</i>)\n",
    "   - The <i>ScheduledDay</i> and <i>AppointmentDay</i> has `00:00:00:00` in its TimeStamp, we will ignore it.\n",
    "   - Some categorical field `Gener`, `Neighbourhood`, `No-show` should be encoded for modeling.\n",
    "   - Age has a value of -1 which is not valid. This should be corrected.\n",
    "   - Appointment <i>LeadTime</i> shows negative lead-time which is an anomally probably caused during data collection.\n",
    "- Typo corrections and standardization:\n",
    "   - `Hipertension` should be corrected to `hypertension`.\n",
    "   - `Handcap` should be corrected to `handicap`.\n",
    "   - `SMS_received` should be corrected to `sms_Received`.\n",
    "   - `No-show` should be corrected to `no_show`."
   ]
  },
  {
   "cell_type": "markdown",
   "metadata": {},
   "source": [
    "<h3 style=\"color:lightgreen\">2.9.1 Change column names to small caps and fix `typos`</h3"
   ]
  },
  {
   "cell_type": "code",
   "execution_count": 14,
   "metadata": {
    "ExecuteTime": {
     "end_time": "2025-05-31T23:02:37.347241Z",
     "start_time": "2025-05-31T23:02:37.319287Z"
    },
    "colab": {
     "base_uri": "https://localhost:8080/",
     "height": 206
    },
    "id": "DS6_LJGHvPJS",
    "outputId": "49d80222-87c0-41c5-c2fa-f716082d445b"
   },
   "outputs": [
    {
     "data": {
      "text/html": [
       "<div>\n",
       "<style scoped>\n",
       "    .dataframe tbody tr th:only-of-type {\n",
       "        vertical-align: middle;\n",
       "    }\n",
       "\n",
       "    .dataframe tbody tr th {\n",
       "        vertical-align: top;\n",
       "    }\n",
       "\n",
       "    .dataframe thead th {\n",
       "        text-align: right;\n",
       "    }\n",
       "</style>\n",
       "<table border=\"1\" class=\"dataframe\">\n",
       "  <thead>\n",
       "    <tr style=\"text-align: right;\">\n",
       "      <th></th>\n",
       "      <th>patient_id</th>\n",
       "      <th>appointment_id</th>\n",
       "      <th>gender</th>\n",
       "      <th>scheduled_day</th>\n",
       "      <th>appointment_day</th>\n",
       "      <th>age</th>\n",
       "      <th>neighbourhood</th>\n",
       "      <th>scholarship</th>\n",
       "      <th>hypertension</th>\n",
       "      <th>diabetes</th>\n",
       "      <th>alcoholism</th>\n",
       "      <th>handicap</th>\n",
       "      <th>sms_received</th>\n",
       "      <th>no_show</th>\n",
       "    </tr>\n",
       "  </thead>\n",
       "  <tbody>\n",
       "    <tr>\n",
       "      <th>0</th>\n",
       "      <td>2.987250e+13</td>\n",
       "      <td>5642903</td>\n",
       "      <td>F</td>\n",
       "      <td>2016-04-29T18:38:08Z</td>\n",
       "      <td>2016-04-29T00:00:00Z</td>\n",
       "      <td>62</td>\n",
       "      <td>JARDIM DA PENHA</td>\n",
       "      <td>0</td>\n",
       "      <td>1</td>\n",
       "      <td>0</td>\n",
       "      <td>0</td>\n",
       "      <td>0</td>\n",
       "      <td>0</td>\n",
       "      <td>No</td>\n",
       "    </tr>\n",
       "    <tr>\n",
       "      <th>1</th>\n",
       "      <td>5.589978e+14</td>\n",
       "      <td>5642503</td>\n",
       "      <td>M</td>\n",
       "      <td>2016-04-29T16:08:27Z</td>\n",
       "      <td>2016-04-29T00:00:00Z</td>\n",
       "      <td>56</td>\n",
       "      <td>JARDIM DA PENHA</td>\n",
       "      <td>0</td>\n",
       "      <td>0</td>\n",
       "      <td>0</td>\n",
       "      <td>0</td>\n",
       "      <td>0</td>\n",
       "      <td>0</td>\n",
       "      <td>No</td>\n",
       "    </tr>\n",
       "    <tr>\n",
       "      <th>2</th>\n",
       "      <td>4.262962e+12</td>\n",
       "      <td>5642549</td>\n",
       "      <td>F</td>\n",
       "      <td>2016-04-29T16:19:04Z</td>\n",
       "      <td>2016-04-29T00:00:00Z</td>\n",
       "      <td>62</td>\n",
       "      <td>MATA DA PRAIA</td>\n",
       "      <td>0</td>\n",
       "      <td>0</td>\n",
       "      <td>0</td>\n",
       "      <td>0</td>\n",
       "      <td>0</td>\n",
       "      <td>0</td>\n",
       "      <td>No</td>\n",
       "    </tr>\n",
       "    <tr>\n",
       "      <th>3</th>\n",
       "      <td>8.679512e+11</td>\n",
       "      <td>5642828</td>\n",
       "      <td>F</td>\n",
       "      <td>2016-04-29T17:29:31Z</td>\n",
       "      <td>2016-04-29T00:00:00Z</td>\n",
       "      <td>8</td>\n",
       "      <td>PONTAL DE CAMBURI</td>\n",
       "      <td>0</td>\n",
       "      <td>0</td>\n",
       "      <td>0</td>\n",
       "      <td>0</td>\n",
       "      <td>0</td>\n",
       "      <td>0</td>\n",
       "      <td>No</td>\n",
       "    </tr>\n",
       "    <tr>\n",
       "      <th>4</th>\n",
       "      <td>8.841186e+12</td>\n",
       "      <td>5642494</td>\n",
       "      <td>F</td>\n",
       "      <td>2016-04-29T16:07:23Z</td>\n",
       "      <td>2016-04-29T00:00:00Z</td>\n",
       "      <td>56</td>\n",
       "      <td>JARDIM DA PENHA</td>\n",
       "      <td>0</td>\n",
       "      <td>1</td>\n",
       "      <td>1</td>\n",
       "      <td>0</td>\n",
       "      <td>0</td>\n",
       "      <td>0</td>\n",
       "      <td>No</td>\n",
       "    </tr>\n",
       "  </tbody>\n",
       "</table>\n",
       "</div>"
      ],
      "text/plain": [
       "     patient_id  appointment_id gender         scheduled_day  \\\n",
       "0  2.987250e+13         5642903      F  2016-04-29T18:38:08Z   \n",
       "1  5.589978e+14         5642503      M  2016-04-29T16:08:27Z   \n",
       "2  4.262962e+12         5642549      F  2016-04-29T16:19:04Z   \n",
       "3  8.679512e+11         5642828      F  2016-04-29T17:29:31Z   \n",
       "4  8.841186e+12         5642494      F  2016-04-29T16:07:23Z   \n",
       "\n",
       "        appointment_day  age      neighbourhood  scholarship  hypertension  \\\n",
       "0  2016-04-29T00:00:00Z   62    JARDIM DA PENHA            0             1   \n",
       "1  2016-04-29T00:00:00Z   56    JARDIM DA PENHA            0             0   \n",
       "2  2016-04-29T00:00:00Z   62      MATA DA PRAIA            0             0   \n",
       "3  2016-04-29T00:00:00Z    8  PONTAL DE CAMBURI            0             0   \n",
       "4  2016-04-29T00:00:00Z   56    JARDIM DA PENHA            0             1   \n",
       "\n",
       "   diabetes  alcoholism  handicap  sms_received no_show  \n",
       "0         0           0         0             0      No  \n",
       "1         0           0         0             0      No  \n",
       "2         0           0         0             0      No  \n",
       "3         0           0         0             0      No  \n",
       "4         1           0         0             0      No  "
      ]
     },
     "execution_count": 14,
     "metadata": {},
     "output_type": "execute_result"
    }
   ],
   "source": [
    "temp_df = df_raw.copy()\n",
    "\n",
    "temp_df.columns = [col.strip().lower()\n",
    "  .replace(\"-\", \"\")\n",
    "  .replace(\" \", \"_\")\n",
    "  .replace(\"hipertension\", \"hypertension\")\n",
    "  .replace(\"handcap\", \"handicap\") for col in df_raw.columns]\n",
    "\n",
    "temp_df.rename(columns={\n",
    "    \"patientid\":\"patient_id\",\n",
    "    \"appointmentid\":\"appointment_id\",\n",
    "    \"appointmentday\":\"appointment_day\",\n",
    "    \"scheduledday\":\"scheduled_day\",\n",
    "    \"noshow\":\"no_show\"\n",
    "}, inplace=True)\n",
    "\n",
    "temp_df.head()"
   ]
  },
  {
   "cell_type": "markdown",
   "metadata": {},
   "source": [
    "<h3 style=\"color:lightgreen\">2.9.2 Convert data types</h3"
   ]
  },
  {
   "cell_type": "code",
   "execution_count": 15,
   "metadata": {
    "ExecuteTime": {
     "end_time": "2025-05-31T23:02:37.828054Z",
     "start_time": "2025-05-31T23:02:37.494235Z"
    },
    "colab": {
     "base_uri": "https://localhost:8080/",
     "height": 424
    },
    "id": "Pd1cbWqZeSXI",
    "outputId": "aaa15965-b0c3-4af9-b507-33141eb202d1"
   },
   "outputs": [
    {
     "name": "stderr",
     "output_type": "stream",
     "text": [
      "C:\\Users\\DFigurado\\AppData\\Local\\Temp\\ipykernel_34196\\2802189573.py:14: FutureWarning: A value is trying to be set on a copy of a DataFrame or Series through chained assignment using an inplace method.\n",
      "The behavior will change in pandas 3.0. This inplace method will never work because the intermediate object on which we are setting values always behaves as a copy.\n",
      "\n",
      "For example, when doing 'df[col].method(value, inplace=True)', try using 'df.method({col: value}, inplace=True)' or df[col] = df[col].method(value) instead, to perform the operation inplace on the original object.\n",
      "\n",
      "\n",
      "  temp_df['no_show'].replace({'No': 0, 'Yes': 1}, inplace=True)\n",
      "C:\\Users\\DFigurado\\AppData\\Local\\Temp\\ipykernel_34196\\2802189573.py:14: FutureWarning: Downcasting behavior in `replace` is deprecated and will be removed in a future version. To retain the old behavior, explicitly call `result.infer_objects(copy=False)`. To opt-in to the future behavior, set `pd.set_option('future.no_silent_downcasting', True)`\n",
      "  temp_df['no_show'].replace({'No': 0, 'Yes': 1}, inplace=True)\n"
     ]
    },
    {
     "data": {
      "text/html": [
       "<div>\n",
       "<style scoped>\n",
       "    .dataframe tbody tr th:only-of-type {\n",
       "        vertical-align: middle;\n",
       "    }\n",
       "\n",
       "    .dataframe tbody tr th {\n",
       "        vertical-align: top;\n",
       "    }\n",
       "\n",
       "    .dataframe thead th {\n",
       "        text-align: right;\n",
       "    }\n",
       "</style>\n",
       "<table border=\"1\" class=\"dataframe\">\n",
       "  <thead>\n",
       "    <tr style=\"text-align: right;\">\n",
       "      <th></th>\n",
       "      <th>patient_id</th>\n",
       "      <th>appointment_id</th>\n",
       "      <th>gender</th>\n",
       "      <th>scheduled_day</th>\n",
       "      <th>appointment_day</th>\n",
       "      <th>age</th>\n",
       "      <th>neighbourhood</th>\n",
       "      <th>scholarship</th>\n",
       "      <th>hypertension</th>\n",
       "      <th>diabetes</th>\n",
       "      <th>alcoholism</th>\n",
       "      <th>handicap</th>\n",
       "      <th>sms_received</th>\n",
       "      <th>no_show</th>\n",
       "    </tr>\n",
       "  </thead>\n",
       "  <tbody>\n",
       "    <tr>\n",
       "      <th>0</th>\n",
       "      <td>29872499824296</td>\n",
       "      <td>5642903</td>\n",
       "      <td>F</td>\n",
       "      <td>2016-04-29</td>\n",
       "      <td>2016-04-29</td>\n",
       "      <td>62</td>\n",
       "      <td>JARDIM DA PENHA</td>\n",
       "      <td>False</td>\n",
       "      <td>True</td>\n",
       "      <td>False</td>\n",
       "      <td>False</td>\n",
       "      <td>0</td>\n",
       "      <td>False</td>\n",
       "      <td>False</td>\n",
       "    </tr>\n",
       "    <tr>\n",
       "      <th>1</th>\n",
       "      <td>558997776694438</td>\n",
       "      <td>5642503</td>\n",
       "      <td>M</td>\n",
       "      <td>2016-04-29</td>\n",
       "      <td>2016-04-29</td>\n",
       "      <td>56</td>\n",
       "      <td>JARDIM DA PENHA</td>\n",
       "      <td>False</td>\n",
       "      <td>False</td>\n",
       "      <td>False</td>\n",
       "      <td>False</td>\n",
       "      <td>0</td>\n",
       "      <td>False</td>\n",
       "      <td>False</td>\n",
       "    </tr>\n",
       "    <tr>\n",
       "      <th>2</th>\n",
       "      <td>4262962299951</td>\n",
       "      <td>5642549</td>\n",
       "      <td>F</td>\n",
       "      <td>2016-04-29</td>\n",
       "      <td>2016-04-29</td>\n",
       "      <td>62</td>\n",
       "      <td>MATA DA PRAIA</td>\n",
       "      <td>False</td>\n",
       "      <td>False</td>\n",
       "      <td>False</td>\n",
       "      <td>False</td>\n",
       "      <td>0</td>\n",
       "      <td>False</td>\n",
       "      <td>False</td>\n",
       "    </tr>\n",
       "    <tr>\n",
       "      <th>3</th>\n",
       "      <td>867951213174</td>\n",
       "      <td>5642828</td>\n",
       "      <td>F</td>\n",
       "      <td>2016-04-29</td>\n",
       "      <td>2016-04-29</td>\n",
       "      <td>8</td>\n",
       "      <td>PONTAL DE CAMBURI</td>\n",
       "      <td>False</td>\n",
       "      <td>False</td>\n",
       "      <td>False</td>\n",
       "      <td>False</td>\n",
       "      <td>0</td>\n",
       "      <td>False</td>\n",
       "      <td>False</td>\n",
       "    </tr>\n",
       "    <tr>\n",
       "      <th>4</th>\n",
       "      <td>8841186448183</td>\n",
       "      <td>5642494</td>\n",
       "      <td>F</td>\n",
       "      <td>2016-04-29</td>\n",
       "      <td>2016-04-29</td>\n",
       "      <td>56</td>\n",
       "      <td>JARDIM DA PENHA</td>\n",
       "      <td>False</td>\n",
       "      <td>True</td>\n",
       "      <td>True</td>\n",
       "      <td>False</td>\n",
       "      <td>0</td>\n",
       "      <td>False</td>\n",
       "      <td>False</td>\n",
       "    </tr>\n",
       "    <tr>\n",
       "      <th>...</th>\n",
       "      <td>...</td>\n",
       "      <td>...</td>\n",
       "      <td>...</td>\n",
       "      <td>...</td>\n",
       "      <td>...</td>\n",
       "      <td>...</td>\n",
       "      <td>...</td>\n",
       "      <td>...</td>\n",
       "      <td>...</td>\n",
       "      <td>...</td>\n",
       "      <td>...</td>\n",
       "      <td>...</td>\n",
       "      <td>...</td>\n",
       "      <td>...</td>\n",
       "    </tr>\n",
       "    <tr>\n",
       "      <th>110522</th>\n",
       "      <td>2572134369293</td>\n",
       "      <td>5651768</td>\n",
       "      <td>F</td>\n",
       "      <td>2016-05-03</td>\n",
       "      <td>2016-06-07</td>\n",
       "      <td>56</td>\n",
       "      <td>MARIA ORTIZ</td>\n",
       "      <td>False</td>\n",
       "      <td>False</td>\n",
       "      <td>False</td>\n",
       "      <td>False</td>\n",
       "      <td>0</td>\n",
       "      <td>True</td>\n",
       "      <td>False</td>\n",
       "    </tr>\n",
       "    <tr>\n",
       "      <th>110523</th>\n",
       "      <td>3596266328735</td>\n",
       "      <td>5650093</td>\n",
       "      <td>F</td>\n",
       "      <td>2016-05-03</td>\n",
       "      <td>2016-06-07</td>\n",
       "      <td>51</td>\n",
       "      <td>MARIA ORTIZ</td>\n",
       "      <td>False</td>\n",
       "      <td>False</td>\n",
       "      <td>False</td>\n",
       "      <td>False</td>\n",
       "      <td>0</td>\n",
       "      <td>True</td>\n",
       "      <td>False</td>\n",
       "    </tr>\n",
       "    <tr>\n",
       "      <th>110524</th>\n",
       "      <td>15576631729893</td>\n",
       "      <td>5630692</td>\n",
       "      <td>F</td>\n",
       "      <td>2016-04-27</td>\n",
       "      <td>2016-06-07</td>\n",
       "      <td>21</td>\n",
       "      <td>MARIA ORTIZ</td>\n",
       "      <td>False</td>\n",
       "      <td>False</td>\n",
       "      <td>False</td>\n",
       "      <td>False</td>\n",
       "      <td>0</td>\n",
       "      <td>True</td>\n",
       "      <td>False</td>\n",
       "    </tr>\n",
       "    <tr>\n",
       "      <th>110525</th>\n",
       "      <td>92134931435557</td>\n",
       "      <td>5630323</td>\n",
       "      <td>F</td>\n",
       "      <td>2016-04-27</td>\n",
       "      <td>2016-06-07</td>\n",
       "      <td>38</td>\n",
       "      <td>MARIA ORTIZ</td>\n",
       "      <td>False</td>\n",
       "      <td>False</td>\n",
       "      <td>False</td>\n",
       "      <td>False</td>\n",
       "      <td>0</td>\n",
       "      <td>True</td>\n",
       "      <td>False</td>\n",
       "    </tr>\n",
       "    <tr>\n",
       "      <th>110526</th>\n",
       "      <td>377511518121127</td>\n",
       "      <td>5629448</td>\n",
       "      <td>F</td>\n",
       "      <td>2016-04-27</td>\n",
       "      <td>2016-06-07</td>\n",
       "      <td>54</td>\n",
       "      <td>MARIA ORTIZ</td>\n",
       "      <td>False</td>\n",
       "      <td>False</td>\n",
       "      <td>False</td>\n",
       "      <td>False</td>\n",
       "      <td>0</td>\n",
       "      <td>True</td>\n",
       "      <td>False</td>\n",
       "    </tr>\n",
       "  </tbody>\n",
       "</table>\n",
       "<p>110527 rows × 14 columns</p>\n",
       "</div>"
      ],
      "text/plain": [
       "             patient_id  appointment_id gender scheduled_day appointment_day  \\\n",
       "0        29872499824296         5642903      F    2016-04-29      2016-04-29   \n",
       "1       558997776694438         5642503      M    2016-04-29      2016-04-29   \n",
       "2         4262962299951         5642549      F    2016-04-29      2016-04-29   \n",
       "3          867951213174         5642828      F    2016-04-29      2016-04-29   \n",
       "4         8841186448183         5642494      F    2016-04-29      2016-04-29   \n",
       "...                 ...             ...    ...           ...             ...   \n",
       "110522    2572134369293         5651768      F    2016-05-03      2016-06-07   \n",
       "110523    3596266328735         5650093      F    2016-05-03      2016-06-07   \n",
       "110524   15576631729893         5630692      F    2016-04-27      2016-06-07   \n",
       "110525   92134931435557         5630323      F    2016-04-27      2016-06-07   \n",
       "110526  377511518121127         5629448      F    2016-04-27      2016-06-07   \n",
       "\n",
       "        age      neighbourhood  scholarship  hypertension  diabetes  \\\n",
       "0        62    JARDIM DA PENHA        False          True     False   \n",
       "1        56    JARDIM DA PENHA        False         False     False   \n",
       "2        62      MATA DA PRAIA        False         False     False   \n",
       "3         8  PONTAL DE CAMBURI        False         False     False   \n",
       "4        56    JARDIM DA PENHA        False          True      True   \n",
       "...     ...                ...          ...           ...       ...   \n",
       "110522   56        MARIA ORTIZ        False         False     False   \n",
       "110523   51        MARIA ORTIZ        False         False     False   \n",
       "110524   21        MARIA ORTIZ        False         False     False   \n",
       "110525   38        MARIA ORTIZ        False         False     False   \n",
       "110526   54        MARIA ORTIZ        False         False     False   \n",
       "\n",
       "        alcoholism handicap  sms_received  no_show  \n",
       "0            False        0         False    False  \n",
       "1            False        0         False    False  \n",
       "2            False        0         False    False  \n",
       "3            False        0         False    False  \n",
       "4            False        0         False    False  \n",
       "...            ...      ...           ...      ...  \n",
       "110522       False        0          True    False  \n",
       "110523       False        0          True    False  \n",
       "110524       False        0          True    False  \n",
       "110525       False        0          True    False  \n",
       "110526       False        0          True    False  \n",
       "\n",
       "[110527 rows x 14 columns]"
      ]
     },
     "execution_count": 15,
     "metadata": {},
     "output_type": "execute_result"
    }
   ],
   "source": [
    "# Convert patient_id and appointment_id to int64\n",
    "temp_df['patient_id'] = temp_df['patient_id'].astype('int64')\n",
    "temp_df['appointment_id'] = temp_df['appointment_id'].astype('int64')\n",
    "\n",
    "# Change `gender`, `neighbourhood`, `handicap`, to categorical type\n",
    "for col in ['gender','neighbourhood','handicap']:\n",
    "    temp_df[col] = temp_df[col].astype('category')\n",
    "\n",
    "# Change scholarship, hypertension, diabetes, alcoholism, sms_received to boolean type\n",
    "for col in ['scholarship','hypertension','diabetes','alcoholism','sms_received']:\n",
    "    temp_df[col] = temp_df[col].astype('bool')\n",
    "\n",
    "# NoShow column transformation and change to boolean type\n",
    "temp_df['no_show'].replace({'No': 0, 'Yes': 1}, inplace=True)\n",
    "temp_df['no_show'] = temp_df['no_show'].astype('bool')\n",
    "\n",
    "# Convert `Appointment Day` and `Scheduled Day`to date ignoring\n",
    "temp_df['scheduled_day'] = pd.to_datetime(temp_df['scheduled_day']).dt.date\n",
    "temp_df['appointment_day'] = pd.to_datetime(temp_df['appointment_day']).dt.date\n",
    "\n",
    "temp_df"
   ]
  },
  {
   "cell_type": "code",
   "execution_count": 16,
   "metadata": {
    "ExecuteTime": {
     "end_time": "2025-05-31T23:02:37.938273Z",
     "start_time": "2025-05-31T23:02:37.930737Z"
    }
   },
   "outputs": [
    {
     "data": {
      "text/plain": [
       "patient_id            int64\n",
       "appointment_id        int64\n",
       "gender             category\n",
       "scheduled_day        object\n",
       "appointment_day      object\n",
       "age                   int64\n",
       "neighbourhood      category\n",
       "scholarship            bool\n",
       "hypertension           bool\n",
       "diabetes               bool\n",
       "alcoholism             bool\n",
       "handicap           category\n",
       "sms_received           bool\n",
       "no_show                bool\n",
       "dtype: object"
      ]
     },
     "execution_count": 16,
     "metadata": {},
     "output_type": "execute_result"
    }
   ],
   "source": [
    "temp_df.dtypes"
   ]
  },
  {
   "cell_type": "markdown",
   "metadata": {},
   "source": [
    "<h3 style=\"color:lightgreen\">2.9.3 Drop negaive <i>Lead Time</i> in schedule.</h3>"
   ]
  },
  {
   "cell_type": "code",
   "execution_count": 17,
   "metadata": {
    "ExecuteTime": {
     "end_time": "2025-05-31T23:02:38.410717Z",
     "start_time": "2025-05-31T23:02:38.354273Z"
    },
    "colab": {
     "base_uri": "https://localhost:8080/",
     "height": 424
    },
    "id": "EiG67gIw7aHO",
    "outputId": "950805f7-ae57-4f19-e361-8a42f1c21d82"
   },
   "outputs": [],
   "source": [
    "# Calculate lead time in the past days\n",
    "temp_df['leadtime'] = (pd.to_datetime(temp_df['appointment_day']) - pd.to_datetime(temp_df['scheduled_day'])).dt.days\n",
    "temp_df = temp_df[temp_df['leadtime'] >= 0].reset_index(drop=True)"
   ]
  },
  {
   "cell_type": "markdown",
   "metadata": {},
   "source": [
    "<h3 style=\"color:lightgreen\">2.9.4 Drop all records were the age is less than 0"
   ]
  },
  {
   "cell_type": "code",
   "execution_count": 18,
   "metadata": {
    "ExecuteTime": {
     "end_time": "2025-05-31T23:02:38.796485Z",
     "start_time": "2025-05-31T23:02:38.775118Z"
    },
    "colab": {
     "base_uri": "https://localhost:8080/",
     "height": 424
    },
    "id": "iIcvxFRaRetd",
    "outputId": "fb38f01a-9d68-4710-9b9b-081250ecfc28"
   },
   "outputs": [],
   "source": [
    "temp_df = temp_df[(temp_df['age'] >= 0) & (temp_df['age'] <= 120)].reset_index(drop=True)"
   ]
  },
  {
   "cell_type": "markdown",
   "metadata": {},
   "source": [
    "<h1 style=\"color:blue\"> 3. Exploratory Data Analysis (EDA)</h1>"
   ]
  },
  {
   "cell_type": "code",
   "execution_count": 19,
   "metadata": {
    "ExecuteTime": {
     "end_time": "2025-05-31T23:02:39.000630Z",
     "start_time": "2025-05-31T23:02:38.974078Z"
    },
    "colab": {
     "base_uri": "https://localhost:8080/",
     "height": 424
    },
    "id": "qWN2lmxgfWmp",
    "outputId": "6434a3c7-e532-416b-b1af-21f9decb61b1"
   },
   "outputs": [
    {
     "data": {
      "text/html": [
       "<div>\n",
       "<style scoped>\n",
       "    .dataframe tbody tr th:only-of-type {\n",
       "        vertical-align: middle;\n",
       "    }\n",
       "\n",
       "    .dataframe tbody tr th {\n",
       "        vertical-align: top;\n",
       "    }\n",
       "\n",
       "    .dataframe thead th {\n",
       "        text-align: right;\n",
       "    }\n",
       "</style>\n",
       "<table border=\"1\" class=\"dataframe\">\n",
       "  <thead>\n",
       "    <tr style=\"text-align: right;\">\n",
       "      <th></th>\n",
       "      <th>patient_id</th>\n",
       "      <th>appointment_id</th>\n",
       "      <th>gender</th>\n",
       "      <th>scheduled_day</th>\n",
       "      <th>appointment_day</th>\n",
       "      <th>age</th>\n",
       "      <th>neighbourhood</th>\n",
       "      <th>scholarship</th>\n",
       "      <th>hypertension</th>\n",
       "      <th>diabetes</th>\n",
       "      <th>alcoholism</th>\n",
       "      <th>handicap</th>\n",
       "      <th>sms_received</th>\n",
       "      <th>no_show</th>\n",
       "      <th>leadtime</th>\n",
       "    </tr>\n",
       "  </thead>\n",
       "  <tbody>\n",
       "    <tr>\n",
       "      <th>0</th>\n",
       "      <td>29872499824296</td>\n",
       "      <td>5642903</td>\n",
       "      <td>F</td>\n",
       "      <td>2016-04-29</td>\n",
       "      <td>2016-04-29</td>\n",
       "      <td>62</td>\n",
       "      <td>JARDIM DA PENHA</td>\n",
       "      <td>False</td>\n",
       "      <td>True</td>\n",
       "      <td>False</td>\n",
       "      <td>False</td>\n",
       "      <td>0</td>\n",
       "      <td>False</td>\n",
       "      <td>False</td>\n",
       "      <td>0</td>\n",
       "    </tr>\n",
       "    <tr>\n",
       "      <th>1</th>\n",
       "      <td>558997776694438</td>\n",
       "      <td>5642503</td>\n",
       "      <td>M</td>\n",
       "      <td>2016-04-29</td>\n",
       "      <td>2016-04-29</td>\n",
       "      <td>56</td>\n",
       "      <td>JARDIM DA PENHA</td>\n",
       "      <td>False</td>\n",
       "      <td>False</td>\n",
       "      <td>False</td>\n",
       "      <td>False</td>\n",
       "      <td>0</td>\n",
       "      <td>False</td>\n",
       "      <td>False</td>\n",
       "      <td>0</td>\n",
       "    </tr>\n",
       "    <tr>\n",
       "      <th>2</th>\n",
       "      <td>4262962299951</td>\n",
       "      <td>5642549</td>\n",
       "      <td>F</td>\n",
       "      <td>2016-04-29</td>\n",
       "      <td>2016-04-29</td>\n",
       "      <td>62</td>\n",
       "      <td>MATA DA PRAIA</td>\n",
       "      <td>False</td>\n",
       "      <td>False</td>\n",
       "      <td>False</td>\n",
       "      <td>False</td>\n",
       "      <td>0</td>\n",
       "      <td>False</td>\n",
       "      <td>False</td>\n",
       "      <td>0</td>\n",
       "    </tr>\n",
       "    <tr>\n",
       "      <th>3</th>\n",
       "      <td>867951213174</td>\n",
       "      <td>5642828</td>\n",
       "      <td>F</td>\n",
       "      <td>2016-04-29</td>\n",
       "      <td>2016-04-29</td>\n",
       "      <td>8</td>\n",
       "      <td>PONTAL DE CAMBURI</td>\n",
       "      <td>False</td>\n",
       "      <td>False</td>\n",
       "      <td>False</td>\n",
       "      <td>False</td>\n",
       "      <td>0</td>\n",
       "      <td>False</td>\n",
       "      <td>False</td>\n",
       "      <td>0</td>\n",
       "    </tr>\n",
       "    <tr>\n",
       "      <th>4</th>\n",
       "      <td>8841186448183</td>\n",
       "      <td>5642494</td>\n",
       "      <td>F</td>\n",
       "      <td>2016-04-29</td>\n",
       "      <td>2016-04-29</td>\n",
       "      <td>56</td>\n",
       "      <td>JARDIM DA PENHA</td>\n",
       "      <td>False</td>\n",
       "      <td>True</td>\n",
       "      <td>True</td>\n",
       "      <td>False</td>\n",
       "      <td>0</td>\n",
       "      <td>False</td>\n",
       "      <td>False</td>\n",
       "      <td>0</td>\n",
       "    </tr>\n",
       "    <tr>\n",
       "      <th>...</th>\n",
       "      <td>...</td>\n",
       "      <td>...</td>\n",
       "      <td>...</td>\n",
       "      <td>...</td>\n",
       "      <td>...</td>\n",
       "      <td>...</td>\n",
       "      <td>...</td>\n",
       "      <td>...</td>\n",
       "      <td>...</td>\n",
       "      <td>...</td>\n",
       "      <td>...</td>\n",
       "      <td>...</td>\n",
       "      <td>...</td>\n",
       "      <td>...</td>\n",
       "      <td>...</td>\n",
       "    </tr>\n",
       "    <tr>\n",
       "      <th>110516</th>\n",
       "      <td>2572134369293</td>\n",
       "      <td>5651768</td>\n",
       "      <td>F</td>\n",
       "      <td>2016-05-03</td>\n",
       "      <td>2016-06-07</td>\n",
       "      <td>56</td>\n",
       "      <td>MARIA ORTIZ</td>\n",
       "      <td>False</td>\n",
       "      <td>False</td>\n",
       "      <td>False</td>\n",
       "      <td>False</td>\n",
       "      <td>0</td>\n",
       "      <td>True</td>\n",
       "      <td>False</td>\n",
       "      <td>35</td>\n",
       "    </tr>\n",
       "    <tr>\n",
       "      <th>110517</th>\n",
       "      <td>3596266328735</td>\n",
       "      <td>5650093</td>\n",
       "      <td>F</td>\n",
       "      <td>2016-05-03</td>\n",
       "      <td>2016-06-07</td>\n",
       "      <td>51</td>\n",
       "      <td>MARIA ORTIZ</td>\n",
       "      <td>False</td>\n",
       "      <td>False</td>\n",
       "      <td>False</td>\n",
       "      <td>False</td>\n",
       "      <td>0</td>\n",
       "      <td>True</td>\n",
       "      <td>False</td>\n",
       "      <td>35</td>\n",
       "    </tr>\n",
       "    <tr>\n",
       "      <th>110518</th>\n",
       "      <td>15576631729893</td>\n",
       "      <td>5630692</td>\n",
       "      <td>F</td>\n",
       "      <td>2016-04-27</td>\n",
       "      <td>2016-06-07</td>\n",
       "      <td>21</td>\n",
       "      <td>MARIA ORTIZ</td>\n",
       "      <td>False</td>\n",
       "      <td>False</td>\n",
       "      <td>False</td>\n",
       "      <td>False</td>\n",
       "      <td>0</td>\n",
       "      <td>True</td>\n",
       "      <td>False</td>\n",
       "      <td>41</td>\n",
       "    </tr>\n",
       "    <tr>\n",
       "      <th>110519</th>\n",
       "      <td>92134931435557</td>\n",
       "      <td>5630323</td>\n",
       "      <td>F</td>\n",
       "      <td>2016-04-27</td>\n",
       "      <td>2016-06-07</td>\n",
       "      <td>38</td>\n",
       "      <td>MARIA ORTIZ</td>\n",
       "      <td>False</td>\n",
       "      <td>False</td>\n",
       "      <td>False</td>\n",
       "      <td>False</td>\n",
       "      <td>0</td>\n",
       "      <td>True</td>\n",
       "      <td>False</td>\n",
       "      <td>41</td>\n",
       "    </tr>\n",
       "    <tr>\n",
       "      <th>110520</th>\n",
       "      <td>377511518121127</td>\n",
       "      <td>5629448</td>\n",
       "      <td>F</td>\n",
       "      <td>2016-04-27</td>\n",
       "      <td>2016-06-07</td>\n",
       "      <td>54</td>\n",
       "      <td>MARIA ORTIZ</td>\n",
       "      <td>False</td>\n",
       "      <td>False</td>\n",
       "      <td>False</td>\n",
       "      <td>False</td>\n",
       "      <td>0</td>\n",
       "      <td>True</td>\n",
       "      <td>False</td>\n",
       "      <td>41</td>\n",
       "    </tr>\n",
       "  </tbody>\n",
       "</table>\n",
       "<p>110521 rows × 15 columns</p>\n",
       "</div>"
      ],
      "text/plain": [
       "             patient_id  appointment_id gender scheduled_day appointment_day  \\\n",
       "0        29872499824296         5642903      F    2016-04-29      2016-04-29   \n",
       "1       558997776694438         5642503      M    2016-04-29      2016-04-29   \n",
       "2         4262962299951         5642549      F    2016-04-29      2016-04-29   \n",
       "3          867951213174         5642828      F    2016-04-29      2016-04-29   \n",
       "4         8841186448183         5642494      F    2016-04-29      2016-04-29   \n",
       "...                 ...             ...    ...           ...             ...   \n",
       "110516    2572134369293         5651768      F    2016-05-03      2016-06-07   \n",
       "110517    3596266328735         5650093      F    2016-05-03      2016-06-07   \n",
       "110518   15576631729893         5630692      F    2016-04-27      2016-06-07   \n",
       "110519   92134931435557         5630323      F    2016-04-27      2016-06-07   \n",
       "110520  377511518121127         5629448      F    2016-04-27      2016-06-07   \n",
       "\n",
       "        age      neighbourhood  scholarship  hypertension  diabetes  \\\n",
       "0        62    JARDIM DA PENHA        False          True     False   \n",
       "1        56    JARDIM DA PENHA        False         False     False   \n",
       "2        62      MATA DA PRAIA        False         False     False   \n",
       "3         8  PONTAL DE CAMBURI        False         False     False   \n",
       "4        56    JARDIM DA PENHA        False          True      True   \n",
       "...     ...                ...          ...           ...       ...   \n",
       "110516   56        MARIA ORTIZ        False         False     False   \n",
       "110517   51        MARIA ORTIZ        False         False     False   \n",
       "110518   21        MARIA ORTIZ        False         False     False   \n",
       "110519   38        MARIA ORTIZ        False         False     False   \n",
       "110520   54        MARIA ORTIZ        False         False     False   \n",
       "\n",
       "        alcoholism handicap  sms_received  no_show  leadtime  \n",
       "0            False        0         False    False         0  \n",
       "1            False        0         False    False         0  \n",
       "2            False        0         False    False         0  \n",
       "3            False        0         False    False         0  \n",
       "4            False        0         False    False         0  \n",
       "...            ...      ...           ...      ...       ...  \n",
       "110516       False        0          True    False        35  \n",
       "110517       False        0          True    False        35  \n",
       "110518       False        0          True    False        41  \n",
       "110519       False        0          True    False        41  \n",
       "110520       False        0          True    False        41  \n",
       "\n",
       "[110521 rows x 15 columns]"
      ]
     },
     "execution_count": 19,
     "metadata": {},
     "output_type": "execute_result"
    }
   ],
   "source": [
    "new_df = temp_df.copy(deep=True)\n",
    "new_df"
   ]
  },
  {
   "cell_type": "markdown",
   "metadata": {},
   "source": [
    "<h2 style=\"color:yellow\">3.1 No-show Distribution</h2>"
   ]
  },
  {
   "cell_type": "code",
   "execution_count": 20,
   "metadata": {
    "ExecuteTime": {
     "end_time": "2025-05-31T23:02:39.242501Z",
     "start_time": "2025-05-31T23:02:39.221898Z"
    }
   },
   "outputs": [
    {
     "name": "stdout",
     "output_type": "stream",
     "text": [
      "No-show Rate:\n",
      " no_show\n",
      "False    88207\n",
      "True     22314\n",
      "Name: age, dtype: int64\n"
     ]
    }
   ],
   "source": [
    "no_show_distribution = new_df.groupby('no_show').count()['age']\n",
    "print(\"No-show Rate:\\n\", no_show_distribution)"
   ]
  },
  {
   "cell_type": "code",
   "execution_count": 21,
   "metadata": {
    "ExecuteTime": {
     "end_time": "2025-05-31T23:02:40.072609Z",
     "start_time": "2025-05-31T23:02:39.730045Z"
    },
    "colab": {
     "base_uri": "https://localhost:8080/",
     "height": 541
    },
    "id": "Cw2LZK-qjXvK",
    "outputId": "a7607c44-499a-4f07-d1ae-275084333496"
   },
   "outputs": [
    {
     "data": {
      "image/png": "[encoded data removed]",
      "text/plain": [
       "<Figure size 640x480 with 1 Axes>"
      ]
     },
     "metadata": {},
     "output_type": "display_data"
    }
   ],
   "source": [
    "# Visualise no-show rate\n",
    "sns.countplot(x='no_show', data=new_df)\n",
    "plt.title('No-show Rate')\n",
    "plt.xlabel('No Show')\n",
    "plt.ylabel('Count')\n",
    "plt.show()"
   ]
  },
  {
   "cell_type": "code",
   "execution_count": 22,
   "metadata": {
    "ExecuteTime": {
     "end_time": "2025-05-31T23:02:40.134973Z",
     "start_time": "2025-05-31T23:02:40.128510Z"
    }
   },
   "outputs": [
    {
     "name": "stdout",
     "output_type": "stream",
     "text": [
      "no show proportion 0.2018982817745044\n"
     ]
    }
   ],
   "source": [
    "no_show_proportion = new_df['no_show'].sum() / len(new_df.index)\n",
    "print(\"no show proportion\", no_show_proportion)"
   ]
  },
  {
   "cell_type": "markdown",
   "metadata": {},
   "source": [
    "<h2 style=\"color:yellow\">3.2 `Gender` Distribution </h2>"
   ]
  },
  {
   "cell_type": "code",
   "execution_count": 23,
   "metadata": {
    "ExecuteTime": {
     "end_time": "2025-05-31T23:02:40.212555Z",
     "start_time": "2025-05-31T23:02:40.202424Z"
    }
   },
   "outputs": [
    {
     "name": "stdout",
     "output_type": "stream",
     "text": [
      "Distribution gender\n",
      "F    64.997602\n",
      "M    35.002398\n",
      "Name: proportion, dtype: float64\n"
     ]
    }
   ],
   "source": [
    "# Gender distribution\n",
    "gender_distribution = new_df['gender'].value_counts(normalize=True) * 100\n",
    "print(\"Distribution\", gender_distribution)"
   ]
  },
  {
   "cell_type": "code",
   "execution_count": 24,
   "metadata": {
    "ExecuteTime": {
     "end_time": "2025-05-31T23:02:40.477076Z",
     "start_time": "2025-05-31T23:02:40.451001Z"
    }
   },
   "outputs": [
    {
     "name": "stdout",
     "output_type": "stream",
     "text": [
      "gender  no_show\n",
      "F       False      79.688457\n",
      "        True       20.311543\n",
      "M       False      80.036190\n",
      "        True       19.963810\n",
      "Name: proportion, dtype: float64\n"
     ]
    },
    {
     "name": "stderr",
     "output_type": "stream",
     "text": [
      "C:\\Users\\DFigurado\\AppData\\Local\\Temp\\ipykernel_34196\\411995252.py:2: FutureWarning: The default of observed=False is deprecated and will be changed to True in a future version of pandas. Pass observed=False to retain current behavior or observed=True to adopt the future default and silence this warning.\n",
      "  no_show_by_gender = new_df.groupby('gender')['no_show'].value_counts(normalize=True) * 100\n"
     ]
    }
   ],
   "source": [
    "# No-show rate by gender\n",
    "no_show_by_gender = new_df.groupby('gender')['no_show'].value_counts(normalize=True) * 100\n",
    "print(no_show_by_gender)"
   ]
  },
  {
   "cell_type": "code",
   "execution_count": 25,
   "metadata": {
    "ExecuteTime": {
     "end_time": "2025-05-31T23:02:40.955504Z",
     "start_time": "2025-05-31T23:02:40.673051Z"
    },
    "colab": {
     "base_uri": "https://localhost:8080/",
     "height": 646
    },
    "id": "f3NHrcbMj200",
    "outputId": "9c68393b-7190-4630-adb1-64585c52c8a2"
   },
   "outputs": [
    {
     "data": {
      "image/png": "[encoded data removed]",
      "text/plain": [
       "<Figure size 1200x600 with 1 Axes>"
      ]
     },
     "metadata": {},
     "output_type": "display_data"
    }
   ],
   "source": [
    "# Visualize gender distribution\n",
    "plt.figure(figsize=(12, 6))\n",
    "sns.countplot(x='gender', hue='no_show', data=new_df)\n",
    "plt.title('No-Show Rate by Gender')\n",
    "plt.xlabel('Gender')\n",
    "plt.ylabel('Count')\n",
    "plt.show()"
   ]
  },
  {
   "cell_type": "markdown",
   "metadata": {
    "id": "8q-LANdJpnJG"
   },
   "source": [
    "<h2 style=\"color:yellow\">3.3 Age Distribution</h2>"
   ]
  },
  {
   "cell_type": "code",
   "execution_count": 26,
   "metadata": {
    "ExecuteTime": {
     "end_time": "2025-05-31T23:02:42.169589Z",
     "start_time": "2025-05-31T23:02:40.981182Z"
    }
   },
   "outputs": [
    {
     "data": {
      "image/png": "[encoded data removed]",
      "text/plain": [
       "<Figure size 1000x500 with 1 Axes>"
      ]
     },
     "metadata": {},
     "output_type": "display_data"
    },
    {
     "data": {
      "image/png": "[encoded data removed]",
      "text/plain": [
       "<Figure size 1000x500 with 1 Axes>"
      ]
     },
     "metadata": {},
     "output_type": "display_data"
    },
    {
     "data": {
      "text/plain": [
       "<Axes: xlabel='age'>"
      ]
     },
     "execution_count": 26,
     "metadata": {},
     "output_type": "execute_result"
    },
    {
     "data": {
      "image/png": "[encoded data removed]",
      "text/plain": [
       "<Figure size 1000x500 with 1 Axes>"
      ]
     },
     "metadata": {},
     "output_type": "display_data"
    }
   ],
   "source": [
    "plt.figure(figsize=(10, 5))\n",
    "stats.probplot(new_df['age'], dist=\"norm\", plot=plt)\n",
    "plt.title('Q-Q Plot of Age')\n",
    "plt.show()\n",
    "\n",
    "# Age distribution\n",
    "plt.figure(figsize=(10, 5))\n",
    "sns.histplot(new_df['age'], bins=20, kde=True)\n",
    "plt.title('Age Distribution')\n",
    "plt.show()\n",
    "\n",
    "plt.figure(figsize=(10, 5))\n",
    "plt.xticks(rotation=90)\n",
    "sns.boxplot(x=new_df['age'])"
   ]
  },
  {
   "cell_type": "code",
   "execution_count": 27,
   "metadata": {
    "ExecuteTime": {
     "end_time": "2025-05-31T23:02:42.221071Z",
     "start_time": "2025-05-31T23:02:42.197336Z"
    }
   },
   "outputs": [
    {
     "name": "stdout",
     "output_type": "stream",
     "text": [
      "age_group  no_show\n",
      "0-18       False      77.465845\n",
      "           True       22.534155\n",
      "19-35      False      76.171535\n",
      "           True       23.828465\n",
      "36-50      False      79.677813\n",
      "           True       20.322187\n",
      "51-65      False      83.450863\n",
      "           True       16.549137\n",
      "66+        False      84.488076\n",
      "           True       15.511924\n",
      "Name: proportion, dtype: float64\n"
     ]
    },
    {
     "name": "stderr",
     "output_type": "stream",
     "text": [
      "C:\\Users\\DFigurado\\AppData\\Local\\Temp\\ipykernel_34196\\3933362487.py:3: FutureWarning: The default of observed=False is deprecated and will be changed to True in a future version of pandas. Pass observed=False to retain current behavior or observed=True to adopt the future default and silence this warning.\n",
      "  no_show_by_age = new_df.groupby('age_group')['no_show'].value_counts(normalize=True) * 100\n"
     ]
    }
   ],
   "source": [
    "# No-show rate by age group\n",
    "new_df['age_group'] = pd.cut(new_df['age'], bins=[0, 18, 35, 50, 65, 100], labels=['0-18', '19-35', '36-50', '51-65', '66+'])\n",
    "no_show_by_age = new_df.groupby('age_group')['no_show'].value_counts(normalize=True) * 100\n",
    "print(no_show_by_age)"
   ]
  },
  {
   "cell_type": "code",
   "execution_count": 28,
   "metadata": {
    "ExecuteTime": {
     "end_time": "2025-05-31T23:02:42.783804Z",
     "start_time": "2025-05-31T23:02:42.328184Z"
    },
    "colab": {
     "base_uri": "https://localhost:8080/",
     "height": 858
    },
    "id": "8h7THqkEpsJ5",
    "outputId": "8f61b816-01bf-4354-e961-0bbcc7495c6a"
   },
   "outputs": [
    {
     "data": {
      "image/png": "[encoded data removed]",
      "text/plain": [
       "<Figure size 1200x600 with 1 Axes>"
      ]
     },
     "metadata": {},
     "output_type": "display_data"
    }
   ],
   "source": [
    "plt.figure(figsize=(12, 6))\n",
    "# Visualise no-show rate by age group,\n",
    "sns.countplot(x='age_group', hue='no_show', data=new_df, palette=\"coolwarm\")\n",
    "plt.title('No-show Rate by Age Group')\n",
    "plt.show()"
   ]
  },
  {
   "cell_type": "markdown",
   "metadata": {
    "id": "ehcD4RZErytg"
   },
   "source": [
    "<h2 style=\"color:yellow\">3.4 Most common neighborhoods for appointments</h2>"
   ]
  },
  {
   "cell_type": "code",
   "execution_count": 29,
   "metadata": {
    "ExecuteTime": {
     "end_time": "2025-05-31T23:02:43.082347Z",
     "start_time": "2025-05-31T23:02:42.826006Z"
    },
    "colab": {
     "base_uri": "https://localhost:8080/",
     "height": 496
    },
    "id": "2yYRKiZ8sC_c",
    "outputId": "a7d2cc09-ec1e-4851-f6c3-8b3403114ebf"
   },
   "outputs": [
    {
     "data": {
      "image/png": "[encoded data removed]",
      "text/plain": [
       "<Figure size 1200x600 with 1 Axes>"
      ]
     },
     "metadata": {},
     "output_type": "display_data"
    }
   ],
   "source": [
    "plt.figure(figsize=(12, 6))\n",
    "\n",
    "neighborhood_counts = new_df['neighbourhood'].value_counts().head(10)\n",
    "neighborhood_counts.index = neighborhood_counts.index.str.title()\n",
    "neighborhood_counts.plot(kind='bar', color='skyblue')\n",
    "\n",
    "plt.title('Top 10 Neighborhoods with the Most Medical Appointments')\n",
    "plt.xlabel('Neighborhood')\n",
    "plt.ylabel('Number of Appointments')\n",
    "plt.xticks(rotation=45)\n",
    "plt.show()"
   ]
  },
  {
   "cell_type": "markdown",
   "metadata": {
    "id": "Kn3xm_q_tvEi"
   },
   "source": [
    "<h2 style=\"color:yellow\"> 3.5 Distribution of appointment dates </h2>"
   ]
  },
  {
   "cell_type": "code",
   "execution_count": 30,
   "metadata": {
    "ExecuteTime": {
     "end_time": "2025-05-31T23:02:43.321257Z",
     "start_time": "2025-05-31T23:02:43.114240Z"
    },
    "colab": {
     "base_uri": "https://localhost:8080/",
     "height": 564
    },
    "id": "TjfEzr47uAjU",
    "outputId": "becd574c-ef3a-4dec-f1a2-ea3e2534bd0f"
   },
   "outputs": [
    {
     "data": {
      "image/png": "[encoded data removed]",
      "text/plain": [
       "<Figure size 1200x600 with 1 Axes>"
      ]
     },
     "metadata": {},
     "output_type": "display_data"
    }
   ],
   "source": [
    "plt.figure(figsize=(12, 6))\n",
    "new_df['appointment_day'].value_counts().sort_index().plot()\n",
    "plt.title('Distribution of Appointment Dates')\n",
    "plt.xlabel('Date')\n",
    "plt.ylabel('Number of Appointments')\n",
    "plt.show()"
   ]
  },
  {
   "cell_type": "markdown",
   "metadata": {
    "id": "EDUX5HM3yrMi"
   },
   "source": [
    "<h2 style=\"color:yellow\"> 3.6 How far in advance are the appointments scheduled </h2>"
   ]
  },
  {
   "cell_type": "code",
   "execution_count": 31,
   "metadata": {
    "ExecuteTime": {
     "end_time": "2025-05-31T23:02:44.087750Z",
     "start_time": "2025-05-31T23:02:43.353461Z"
    },
    "colab": {
     "base_uri": "https://localhost:8080/",
     "height": 564
    },
    "id": "-vBu5XCczGTT",
    "outputId": "b23abcb9-2291-47b8-9ae5-89f6d430cd75"
   },
   "outputs": [
    {
     "data": {
      "image/png": "[encoded data removed]",
      "text/plain": [
       "<Figure size 1200x600 with 1 Axes>"
      ]
     },
     "metadata": {},
     "output_type": "display_data"
    }
   ],
   "source": [
    "new_df['days_between_appointment'] = (pd.to_datetime(new_df[\"appointment_day\"]) - pd.to_datetime(new_df['scheduled_day'])).dt.days\n",
    "\n",
    "plt.figure(figsize=(12, 6))\n",
    "sns.histplot(new_df['days_between_appointment'], bins=20, kde=True, color='Purple')\n",
    "plt.title('Distribution of Days Between Scheduling and Appointment')\n",
    "plt.xlabel('Days Between Scheduling and Appointment')\n",
    "plt.ylabel('Number of Appointments')\n",
    "plt.show()"
   ]
  },
  {
   "cell_type": "markdown",
   "metadata": {
    "id": "etUkPIIq03tn"
   },
   "source": [
    "<h2 style=\"color:yellow\">3.7 No-show rates based on scheduling in advance</h2>"
   ]
  },
  {
   "cell_type": "code",
   "execution_count": 32,
   "metadata": {
    "ExecuteTime": {
     "end_time": "2025-05-31T23:02:44.516797Z",
     "start_time": "2025-05-31T23:02:44.115583Z"
    },
    "colab": {
     "base_uri": "https://localhost:8080/",
     "height": 651
    },
    "id": "jV14T20c1ErZ",
    "outputId": "67d352b7-ef8d-4327-f0c0-72a35fe39418"
   },
   "outputs": [
    {
     "data": {
      "image/png": "[encoded data removed]",
      "text/plain": [
       "<Figure size 1200x600 with 1 Axes>"
      ]
     },
     "metadata": {},
     "output_type": "display_data"
    }
   ],
   "source": [
    "plt.figure(figsize=(12, 6))\n",
    "sns.boxplot(x=new_df['no_show'], y=new_df['days_between_appointment'], hue=new_df['no_show'], palette=\"coolwarm\")\n",
    "plt.title('Impact of Scheduling Time on No-Show Rate')\n",
    "plt.xlabel('No-Show Status')\n",
    "plt.ylabel('Days Between Scheduling and Appointment')\n",
    "plt.show()"
   ]
  },
  {
   "cell_type": "markdown",
   "metadata": {
    "id": "lRbz4A5M3t6m"
   },
   "source": [
    "<h2 style=\"color:yellow\">3.8 No-show rate by weekday</h2>"
   ]
  },
  {
   "cell_type": "code",
   "execution_count": 33,
   "metadata": {
    "ExecuteTime": {
     "end_time": "2025-05-31T23:02:44.593083Z",
     "start_time": "2025-05-31T23:02:44.588974Z"
    },
    "colab": {
     "base_uri": "https://localhost:8080/",
     "height": 461
    },
    "id": "MO11fvJrxIvS",
    "outputId": "ef00d2d0-1522-4f93-e0f9-79b982f75cfe"
   },
   "outputs": [],
   "source": [
    "# `No Show` encoding\n",
    "# new_df['no_show'] = new_df['no_show'].map({'Yes': 1, 'No': 0})\n",
    "# new_df"
   ]
  },
  {
   "cell_type": "code",
   "execution_count": 34,
   "metadata": {
    "ExecuteTime": {
     "end_time": "2025-05-31T23:02:45.189432Z",
     "start_time": "2025-05-31T23:02:44.695929Z"
    },
    "colab": {
     "base_uri": "https://localhost:8080/",
     "height": 704
    },
    "id": "ZsD20cjS3zSA",
    "outputId": "55d756ae-ff30-4dab-a165-b626cae8a87e"
   },
   "outputs": [
    {
     "data": {
      "image/png": "[encoded data removed]",
      "text/plain": [
       "<Figure size 1200x600 with 1 Axes>"
      ]
     },
     "metadata": {},
     "output_type": "display_data"
    }
   ],
   "source": [
    "new_df['appointment_weekday'] = pd.to_datetime(new_df['appointment_day']).dt.day_name()\n",
    "\n",
    "plt.figure(figsize=(12, 6))\n",
    "sns.barplot(x=new_df['appointment_weekday'], y=new_df['no_show'], hue=new_df['appointment_weekday'], order=[\"Monday\",\"Tuesday\",\"Wednesday\",\"Thursday\",\"Friday\",\"Saturday\"], palette=\"coolwarm\", errorbar=None)\n",
    "plt.title('No-Show Rate by Day of the week')\n",
    "plt.xlabel('Day of the week')\n",
    "plt.ylabel('No-Show Rate')\n",
    "plt.xticks(rotation=45)\n",
    "plt.show()"
   ]
  },
  {
   "cell_type": "markdown",
   "metadata": {
    "id": "IS6hVll6Bm3D"
   },
   "source": [
    "<h2 style=\"color:yellow\">3.9 No-show rate for patients with scholarship</h2>"
   ]
  },
  {
   "cell_type": "code",
   "execution_count": 35,
   "metadata": {
    "ExecuteTime": {
     "end_time": "2025-05-31T23:02:46.617849Z",
     "start_time": "2025-05-31T23:02:45.228685Z"
    },
    "colab": {
     "base_uri": "https://localhost:8080/",
     "height": 651
    },
    "id": "ADwP9TmOB6EV",
    "outputId": "2b4d4d9c-0738-427c-9ad8-f35a93254e6a"
   },
   "outputs": [
    {
     "data": {
      "image/png": "[encoded data removed]",
      "text/plain": [
       "<Figure size 1200x600 with 1 Axes>"
      ]
     },
     "metadata": {},
     "output_type": "display_data"
    }
   ],
   "source": [
    "plt.figure(figsize=(12, 6))\n",
    "sns.barplot(x=new_df['scholarship'], y=new_df['no_show'], hue=new_df['scholarship'], palette=\"coolwarm\")\n",
    "plt.title('No-Show Rate for Patients with a Scholarship')\n",
    "plt.xlabel('Scholarship')\n",
    "plt.ylabel('No-Show Rate')\n",
    "plt.show()"
   ]
  },
  {
   "cell_type": "markdown",
   "metadata": {
    "id": "DnfA7nDKClqV"
   },
   "source": [
    "<h2 style=\"color:yellow\"> 3.10 No-show rate for patients with `hypertension` or `diabetes`</h2>"
   ]
  },
  {
   "cell_type": "code",
   "execution_count": 36,
   "metadata": {
    "ExecuteTime": {
     "end_time": "2025-05-31T23:02:46.649810Z",
     "start_time": "2025-05-31T23:02:46.644815Z"
    },
    "colab": {
     "base_uri": "https://localhost:8080/",
     "height": 461
    },
    "id": "oHTzD2jo9Sfb",
    "outputId": "612a2667-b669-41be-94fa-4883bc7add60"
   },
   "outputs": [],
   "source": [
    "# Convert 'No_show' to numeric (1 for 'Yes', 0 for 'No')\n",
    "#new_df['no_show'] = new_df['no_show'].map({1: 'Yes', 0: 'No'})"
   ]
  },
  {
   "cell_type": "code",
   "execution_count": 37,
   "metadata": {
    "ExecuteTime": {
     "end_time": "2025-05-31T23:02:46.903226Z",
     "start_time": "2025-05-31T23:02:46.701471Z"
    },
    "colab": {
     "base_uri": "https://localhost:8080/",
     "height": 651
    },
    "id": "si17P06QCnW8",
    "outputId": "9b9a9a18-82b6-4675-d841-dc950fad67f9"
   },
   "outputs": [
    {
     "data": {
      "image/png": "[encoded data removed]",
      "text/plain": [
       "<Figure size 800x400 with 1 Axes>"
      ]
     },
     "metadata": {},
     "output_type": "display_data"
    }
   ],
   "source": [
    "# No-show rate for patients with hypertension or diabetes\n",
    "#new_df['no_show'] = new_df['no_show'].map({'Yes': 1, 'No': 0})\n",
    "# Create a new column for the number of chronic conditions (Hypertension or Diabetes)\n",
    "new_df['num_chronic_conditions'] = new_df[['hypertension','diabetes']].sum(axis=1)\n",
    "# Group by the number of chronic conditions and calculate the no-show rate\n",
    "no_show_by_chronic = new_df.groupby('num_chronic_conditions')['no_show'].mean() * 100\n",
    "# Reset index for plotting\n",
    "no_show_by_chronic = no_show_by_chronic.reset_index()\n",
    "# Plot the no-show rate\n",
    "plt.figure(figsize=(8, 4))\n",
    "sns.barplot(x='num_chronic_conditions', y='no_show', hue='num_chronic_conditions', data=no_show_by_chronic, palette=\"coolwarm\", legend=False)\n",
    "plt.title('No-Show Rate for Patients with Hypertension or Diabetes')\n",
    "plt.xlabel(\"Number of Chronic Conditions (0-2)\")\n",
    "plt.ylabel(\"No-Show Rate (%)\")\n",
    "plt.show()"
   ]
  },
  {
   "cell_type": "markdown",
   "metadata": {
    "id": "tGzzPKcERkGe"
   },
   "source": [
    "<h2 style=\"color:yellow\">3.11 No-sho rate for patients with Alcoholism</h2>"
   ]
  },
  {
   "cell_type": "code",
   "execution_count": 38,
   "metadata": {
    "ExecuteTime": {
     "end_time": "2025-05-31T23:02:48.210815Z",
     "start_time": "2025-05-31T23:02:47.011446Z"
    },
    "colab": {
     "base_uri": "https://localhost:8080/",
     "height": 651
    },
    "id": "_Cu3Du9ZRrXu",
    "outputId": "f780a1f0-1d38-43e2-af04-4b24e2705adc"
   },
   "outputs": [
    {
     "data": {
      "image/png": "[encoded data removed]",
      "text/plain": [
       "<Figure size 800x400 with 1 Axes>"
      ]
     },
     "metadata": {},
     "output_type": "display_data"
    }
   ],
   "source": [
    "plt.figure(figsize=(8, 4))\n",
    "sns.barplot(x=new_df['alcoholism'], y=new_df['no_show'], hue=new_df['alcoholism'], palette=\"coolwarm\")\n",
    "plt.title('No-Show Rate for Patients with Alcoholism')\n",
    "plt.xlabel('Alcoholism (0 = No, 1 = Yes)')\n",
    "plt.ylabel('No-Show Rate')\n",
    "plt.show()"
   ]
  },
  {
   "cell_type": "markdown",
   "metadata": {
    "id": "G-FpdN77lMfM"
   },
   "source": [
    "<h2 style=\"color:yellow\">3.12 No-Show rate by handicap status</h2>"
   ]
  },
  {
   "cell_type": "code",
   "execution_count": 39,
   "metadata": {
    "ExecuteTime": {
     "end_time": "2025-05-31T23:02:48.569193Z",
     "start_time": "2025-05-31T23:02:48.241664Z"
    },
    "colab": {
     "base_uri": "https://localhost:8080/",
     "height": 497
    },
    "id": "hYd9E0VMlSQ2",
    "outputId": "bffe04cc-40d8-42eb-9fc1-dc6950277cd5"
   },
   "outputs": [
    {
     "data": {
      "image/png": "[encoded data removed]",
      "text/plain": [
       "<Figure size 1200x600 with 1 Axes>"
      ]
     },
     "metadata": {},
     "output_type": "display_data"
    }
   ],
   "source": [
    "plt.figure(figsize=(12, 6))\n",
    "sns.barplot(x=new_df['handicap'], y=new_df['no_show'], hue=new_df['handicap'] ,palette=\"coolwarm\", errorbar=None)\n",
    "plt.title('No-Show Rate by Handicap Status')\n",
    "plt.xlabel('Handicap Status')\n",
    "plt.ylabel('No-Show Rate')\n",
    "plt.show()"
   ]
  },
  {
   "cell_type": "markdown",
   "metadata": {
    "id": "yaB9IP8Zlhjg"
   },
   "source": [
    "<h2 style=\"color:yellow\">3.13 Does receiving an SMS reminder reduce the likelihood of a now-show?</h2>"
   ]
  },
  {
   "cell_type": "code",
   "execution_count": 40,
   "metadata": {
    "ExecuteTime": {
     "end_time": "2025-05-31T23:02:48.780359Z",
     "start_time": "2025-05-31T23:02:48.625831Z"
    },
    "colab": {
     "base_uri": "https://localhost:8080/",
     "height": 497
    },
    "id": "Q1OQJeARmWOr",
    "outputId": "7f64d63f-4c86-447e-8979-7324e6409c38"
   },
   "outputs": [
    {
     "data": {
      "image/png": "[encoded data removed]",
      "text/plain": [
       "<Figure size 800x400 with 1 Axes>"
      ]
     },
     "metadata": {},
     "output_type": "display_data"
    }
   ],
   "source": [
    "# Grouped by SMS_Received and calculate the no-show rate\n",
    "no_show_by_sms = new_df.groupby('sms_received')['no_show'].mean() * 100\n",
    "\n",
    "# Reset index for plotting\n",
    "no_show_by_sms = no_show_by_sms.reset_index()\n",
    "\n",
    "# Plot the no-show rate\n",
    "plt.figure(figsize=(8, 4))\n",
    "sns.barplot(x='sms_received', y='no_show', hue='sms_received', data=no_show_by_sms, palette=\"coolwarm\", legend=False)\n",
    "plt.title('No-Show Rate by SMS Reminder')\n",
    "plt.xlabel('SMS Reminder (1 = Yes, 0 = No)')\n",
    "plt.ylabel('No-Show Rate (%)')\n",
    "plt.show()"
   ]
  },
  {
   "cell_type": "markdown",
   "metadata": {
    "id": "RJNscLG7m55e"
   },
   "source": [
    "<h2 style=\"color:yellow\"> 3.14 No-Show rate by SMS received</h2>"
   ]
  },
  {
   "cell_type": "code",
   "execution_count": 41,
   "metadata": {
    "ExecuteTime": {
     "end_time": "2025-05-31T23:02:49.047492Z",
     "start_time": "2025-05-31T23:02:48.882489Z"
    },
    "colab": {
     "base_uri": "https://localhost:8080/",
     "height": 497
    },
    "id": "D1XmUZJKnHFj",
    "outputId": "dc0b27f9-ae61-4b73-b1ec-a452dfea24f5"
   },
   "outputs": [
    {
     "data": {
      "image/png": "[encoded data removed]",
      "text/plain": [
       "<Figure size 1200x600 with 1 Axes>"
      ]
     },
     "metadata": {},
     "output_type": "display_data"
    }
   ],
   "source": [
    "new_df['sms_received_label'] = new_df['sms_received']\n",
    "\n",
    "no_show_by_sms_count = new_df.groupby('sms_received_label')['no_show'].mean() * 100\n",
    "no_show_by_sms_count = no_show_by_sms_count.reset_index()\n",
    "\n",
    "plt.figure(figsize=(12, 6))\n",
    "sns.barplot(x='sms_received_label', y='no_show', hue='sms_received_label', data=no_show_by_sms_count, palette=\"coolwarm\", legend=False)\n",
    "plt.title('No-Show Rate by SMS Reminder')\n",
    "plt.xlabel('SMS Reminder')\n",
    "plt.ylabel('No-Show Rate (%)')\n",
    "plt.show()"
   ]
  },
  {
   "cell_type": "markdown",
   "metadata": {},
   "source": [
    "<h2 style=\"color:yellow\"> 3.15 Which group of patients up less for their scheduled appointments</h2>"
   ]
  },
  {
   "cell_type": "code",
   "execution_count": 42,
   "metadata": {
    "ExecuteTime": {
     "end_time": "2025-05-31T23:02:49.453596Z",
     "start_time": "2025-05-31T23:02:49.123422Z"
    }
   },
   "outputs": [
    {
     "name": "stderr",
     "output_type": "stream",
     "text": [
      "C:\\Users\\DFigurado\\AppData\\Local\\Temp\\ipykernel_34196\\3194321931.py:3: FutureWarning: \n",
      "\n",
      "Passing `palette` without assigning `hue` is deprecated and will be removed in v0.14.0. Assign the `x` variable to `hue` and set `legend=False` for the same effect.\n",
      "\n",
      "  sns.countplot(data=new_df, x='no_show', color='blue', palette='coolwarm', legend=False)\n"
     ]
    },
    {
     "data": {
      "image/png": "[encoded data removed]",
      "text/plain": [
       "<Figure size 1000x600 with 2 Axes>"
      ]
     },
     "metadata": {},
     "output_type": "display_data"
    }
   ],
   "source": [
    "plt.figure(figsize=(10, 6))\n",
    "plt.subplot(1, 2, 1)\n",
    "sns.countplot(data=new_df, x='no_show', color='blue', palette='coolwarm', legend=False)\n",
    "plt.title('Appointments with No Show')\n",
    "plt.xlabel('No Show')\n",
    "plt.ylabel('Count of Appointments')\n",
    "\n",
    "plt.subplot(1, 2, 2)\n",
    "new_df.no_show.value_counts().plot(kind='pie', autopct='%1.0f%%')\n",
    "plt.title('Share of No Show Appointments')\n",
    "plt.show()"
   ]
  },
  {
   "cell_type": "markdown",
   "metadata": {},
   "source": [
    "<h1 style=\"color:blue\">4. Feature Engineering</h1>"
   ]
  },
  {
   "cell_type": "markdown",
   "metadata": {},
   "source": [
    " <h2 style=\"color:yellow\"> 4.1 Current columns in the Data Frame</h2>"
   ]
  },
  {
   "cell_type": "code",
   "execution_count": 43,
   "metadata": {
    "ExecuteTime": {
     "end_time": "2025-05-31T23:02:49.506386Z",
     "start_time": "2025-05-31T23:02:49.500145Z"
    }
   },
   "outputs": [
    {
     "data": {
      "text/plain": [
       "Index(['patient_id', 'appointment_id', 'gender', 'scheduled_day',\n",
       "       'appointment_day', 'age', 'neighbourhood', 'scholarship',\n",
       "       'hypertension', 'diabetes', 'alcoholism', 'handicap', 'sms_received',\n",
       "       'no_show', 'leadtime', 'age_group', 'days_between_appointment',\n",
       "       'appointment_weekday', 'num_chronic_conditions', 'sms_received_label'],\n",
       "      dtype='object')"
      ]
     },
     "execution_count": 43,
     "metadata": {},
     "output_type": "execute_result"
    }
   ],
   "source": [
    "# Current columns in the DataFrame\n",
    "new_df.columns"
   ]
  },
  {
   "cell_type": "code",
   "execution_count": 44,
   "metadata": {
    "ExecuteTime": {
     "end_time": "2025-05-31T23:02:49.585795Z",
     "start_time": "2025-05-31T23:02:49.565858Z"
    }
   },
   "outputs": [
    {
     "data": {
      "text/html": [
       "<div>\n",
       "<style scoped>\n",
       "    .dataframe tbody tr th:only-of-type {\n",
       "        vertical-align: middle;\n",
       "    }\n",
       "\n",
       "    .dataframe tbody tr th {\n",
       "        vertical-align: top;\n",
       "    }\n",
       "\n",
       "    .dataframe thead th {\n",
       "        text-align: right;\n",
       "    }\n",
       "</style>\n",
       "<table border=\"1\" class=\"dataframe\">\n",
       "  <thead>\n",
       "    <tr style=\"text-align: right;\">\n",
       "      <th></th>\n",
       "      <th>patient_id</th>\n",
       "      <th>appointment_id</th>\n",
       "      <th>gender</th>\n",
       "      <th>scheduled_day</th>\n",
       "      <th>appointment_day</th>\n",
       "      <th>age</th>\n",
       "      <th>neighbourhood</th>\n",
       "      <th>scholarship</th>\n",
       "      <th>hypertension</th>\n",
       "      <th>diabetes</th>\n",
       "      <th>alcoholism</th>\n",
       "      <th>handicap</th>\n",
       "      <th>sms_received</th>\n",
       "      <th>no_show</th>\n",
       "      <th>leadtime</th>\n",
       "      <th>age_group</th>\n",
       "      <th>days_between_appointment</th>\n",
       "      <th>appointment_weekday</th>\n",
       "      <th>num_chronic_conditions</th>\n",
       "      <th>sms_received_label</th>\n",
       "    </tr>\n",
       "  </thead>\n",
       "  <tbody>\n",
       "    <tr>\n",
       "      <th>0</th>\n",
       "      <td>29872499824296</td>\n",
       "      <td>5642903</td>\n",
       "      <td>F</td>\n",
       "      <td>2016-04-29</td>\n",
       "      <td>2016-04-29</td>\n",
       "      <td>62</td>\n",
       "      <td>JARDIM DA PENHA</td>\n",
       "      <td>False</td>\n",
       "      <td>True</td>\n",
       "      <td>False</td>\n",
       "      <td>False</td>\n",
       "      <td>0</td>\n",
       "      <td>False</td>\n",
       "      <td>False</td>\n",
       "      <td>0</td>\n",
       "      <td>51-65</td>\n",
       "      <td>0</td>\n",
       "      <td>Friday</td>\n",
       "      <td>1</td>\n",
       "      <td>False</td>\n",
       "    </tr>\n",
       "    <tr>\n",
       "      <th>1</th>\n",
       "      <td>558997776694438</td>\n",
       "      <td>5642503</td>\n",
       "      <td>M</td>\n",
       "      <td>2016-04-29</td>\n",
       "      <td>2016-04-29</td>\n",
       "      <td>56</td>\n",
       "      <td>JARDIM DA PENHA</td>\n",
       "      <td>False</td>\n",
       "      <td>False</td>\n",
       "      <td>False</td>\n",
       "      <td>False</td>\n",
       "      <td>0</td>\n",
       "      <td>False</td>\n",
       "      <td>False</td>\n",
       "      <td>0</td>\n",
       "      <td>51-65</td>\n",
       "      <td>0</td>\n",
       "      <td>Friday</td>\n",
       "      <td>0</td>\n",
       "      <td>False</td>\n",
       "    </tr>\n",
       "    <tr>\n",
       "      <th>2</th>\n",
       "      <td>4262962299951</td>\n",
       "      <td>5642549</td>\n",
       "      <td>F</td>\n",
       "      <td>2016-04-29</td>\n",
       "      <td>2016-04-29</td>\n",
       "      <td>62</td>\n",
       "      <td>MATA DA PRAIA</td>\n",
       "      <td>False</td>\n",
       "      <td>False</td>\n",
       "      <td>False</td>\n",
       "      <td>False</td>\n",
       "      <td>0</td>\n",
       "      <td>False</td>\n",
       "      <td>False</td>\n",
       "      <td>0</td>\n",
       "      <td>51-65</td>\n",
       "      <td>0</td>\n",
       "      <td>Friday</td>\n",
       "      <td>0</td>\n",
       "      <td>False</td>\n",
       "    </tr>\n",
       "    <tr>\n",
       "      <th>3</th>\n",
       "      <td>867951213174</td>\n",
       "      <td>5642828</td>\n",
       "      <td>F</td>\n",
       "      <td>2016-04-29</td>\n",
       "      <td>2016-04-29</td>\n",
       "      <td>8</td>\n",
       "      <td>PONTAL DE CAMBURI</td>\n",
       "      <td>False</td>\n",
       "      <td>False</td>\n",
       "      <td>False</td>\n",
       "      <td>False</td>\n",
       "      <td>0</td>\n",
       "      <td>False</td>\n",
       "      <td>False</td>\n",
       "      <td>0</td>\n",
       "      <td>0-18</td>\n",
       "      <td>0</td>\n",
       "      <td>Friday</td>\n",
       "      <td>0</td>\n",
       "      <td>False</td>\n",
       "    </tr>\n",
       "    <tr>\n",
       "      <th>4</th>\n",
       "      <td>8841186448183</td>\n",
       "      <td>5642494</td>\n",
       "      <td>F</td>\n",
       "      <td>2016-04-29</td>\n",
       "      <td>2016-04-29</td>\n",
       "      <td>56</td>\n",
       "      <td>JARDIM DA PENHA</td>\n",
       "      <td>False</td>\n",
       "      <td>True</td>\n",
       "      <td>True</td>\n",
       "      <td>False</td>\n",
       "      <td>0</td>\n",
       "      <td>False</td>\n",
       "      <td>False</td>\n",
       "      <td>0</td>\n",
       "      <td>51-65</td>\n",
       "      <td>0</td>\n",
       "      <td>Friday</td>\n",
       "      <td>2</td>\n",
       "      <td>False</td>\n",
       "    </tr>\n",
       "    <tr>\n",
       "      <th>...</th>\n",
       "      <td>...</td>\n",
       "      <td>...</td>\n",
       "      <td>...</td>\n",
       "      <td>...</td>\n",
       "      <td>...</td>\n",
       "      <td>...</td>\n",
       "      <td>...</td>\n",
       "      <td>...</td>\n",
       "      <td>...</td>\n",
       "      <td>...</td>\n",
       "      <td>...</td>\n",
       "      <td>...</td>\n",
       "      <td>...</td>\n",
       "      <td>...</td>\n",
       "      <td>...</td>\n",
       "      <td>...</td>\n",
       "      <td>...</td>\n",
       "      <td>...</td>\n",
       "      <td>...</td>\n",
       "      <td>...</td>\n",
       "    </tr>\n",
       "    <tr>\n",
       "      <th>110516</th>\n",
       "      <td>2572134369293</td>\n",
       "      <td>5651768</td>\n",
       "      <td>F</td>\n",
       "      <td>2016-05-03</td>\n",
       "      <td>2016-06-07</td>\n",
       "      <td>56</td>\n",
       "      <td>MARIA ORTIZ</td>\n",
       "      <td>False</td>\n",
       "      <td>False</td>\n",
       "      <td>False</td>\n",
       "      <td>False</td>\n",
       "      <td>0</td>\n",
       "      <td>True</td>\n",
       "      <td>False</td>\n",
       "      <td>35</td>\n",
       "      <td>51-65</td>\n",
       "      <td>35</td>\n",
       "      <td>Tuesday</td>\n",
       "      <td>0</td>\n",
       "      <td>True</td>\n",
       "    </tr>\n",
       "    <tr>\n",
       "      <th>110517</th>\n",
       "      <td>3596266328735</td>\n",
       "      <td>5650093</td>\n",
       "      <td>F</td>\n",
       "      <td>2016-05-03</td>\n",
       "      <td>2016-06-07</td>\n",
       "      <td>51</td>\n",
       "      <td>MARIA ORTIZ</td>\n",
       "      <td>False</td>\n",
       "      <td>False</td>\n",
       "      <td>False</td>\n",
       "      <td>False</td>\n",
       "      <td>0</td>\n",
       "      <td>True</td>\n",
       "      <td>False</td>\n",
       "      <td>35</td>\n",
       "      <td>51-65</td>\n",
       "      <td>35</td>\n",
       "      <td>Tuesday</td>\n",
       "      <td>0</td>\n",
       "      <td>True</td>\n",
       "    </tr>\n",
       "    <tr>\n",
       "      <th>110518</th>\n",
       "      <td>15576631729893</td>\n",
       "      <td>5630692</td>\n",
       "      <td>F</td>\n",
       "      <td>2016-04-27</td>\n",
       "      <td>2016-06-07</td>\n",
       "      <td>21</td>\n",
       "      <td>MARIA ORTIZ</td>\n",
       "      <td>False</td>\n",
       "      <td>False</td>\n",
       "      <td>False</td>\n",
       "      <td>False</td>\n",
       "      <td>0</td>\n",
       "      <td>True</td>\n",
       "      <td>False</td>\n",
       "      <td>41</td>\n",
       "      <td>19-35</td>\n",
       "      <td>41</td>\n",
       "      <td>Tuesday</td>\n",
       "      <td>0</td>\n",
       "      <td>True</td>\n",
       "    </tr>\n",
       "    <tr>\n",
       "      <th>110519</th>\n",
       "      <td>92134931435557</td>\n",
       "      <td>5630323</td>\n",
       "      <td>F</td>\n",
       "      <td>2016-04-27</td>\n",
       "      <td>2016-06-07</td>\n",
       "      <td>38</td>\n",
       "      <td>MARIA ORTIZ</td>\n",
       "      <td>False</td>\n",
       "      <td>False</td>\n",
       "      <td>False</td>\n",
       "      <td>False</td>\n",
       "      <td>0</td>\n",
       "      <td>True</td>\n",
       "      <td>False</td>\n",
       "      <td>41</td>\n",
       "      <td>36-50</td>\n",
       "      <td>41</td>\n",
       "      <td>Tuesday</td>\n",
       "      <td>0</td>\n",
       "      <td>True</td>\n",
       "    </tr>\n",
       "    <tr>\n",
       "      <th>110520</th>\n",
       "      <td>377511518121127</td>\n",
       "      <td>5629448</td>\n",
       "      <td>F</td>\n",
       "      <td>2016-04-27</td>\n",
       "      <td>2016-06-07</td>\n",
       "      <td>54</td>\n",
       "      <td>MARIA ORTIZ</td>\n",
       "      <td>False</td>\n",
       "      <td>False</td>\n",
       "      <td>False</td>\n",
       "      <td>False</td>\n",
       "      <td>0</td>\n",
       "      <td>True</td>\n",
       "      <td>False</td>\n",
       "      <td>41</td>\n",
       "      <td>51-65</td>\n",
       "      <td>41</td>\n",
       "      <td>Tuesday</td>\n",
       "      <td>0</td>\n",
       "      <td>True</td>\n",
       "    </tr>\n",
       "  </tbody>\n",
       "</table>\n",
       "<p>110521 rows × 20 columns</p>\n",
       "</div>"
      ],
      "text/plain": [
       "             patient_id  appointment_id gender scheduled_day appointment_day  \\\n",
       "0        29872499824296         5642903      F    2016-04-29      2016-04-29   \n",
       "1       558997776694438         5642503      M    2016-04-29      2016-04-29   \n",
       "2         4262962299951         5642549      F    2016-04-29      2016-04-29   \n",
       "3          867951213174         5642828      F    2016-04-29      2016-04-29   \n",
       "4         8841186448183         5642494      F    2016-04-29      2016-04-29   \n",
       "...                 ...             ...    ...           ...             ...   \n",
       "110516    2572134369293         5651768      F    2016-05-03      2016-06-07   \n",
       "110517    3596266328735         5650093      F    2016-05-03      2016-06-07   \n",
       "110518   15576631729893         5630692      F    2016-04-27      2016-06-07   \n",
       "110519   92134931435557         5630323      F    2016-04-27      2016-06-07   \n",
       "110520  377511518121127         5629448      F    2016-04-27      2016-06-07   \n",
       "\n",
       "        age      neighbourhood  scholarship  hypertension  diabetes  \\\n",
       "0        62    JARDIM DA PENHA        False          True     False   \n",
       "1        56    JARDIM DA PENHA        False         False     False   \n",
       "2        62      MATA DA PRAIA        False         False     False   \n",
       "3         8  PONTAL DE CAMBURI        False         False     False   \n",
       "4        56    JARDIM DA PENHA        False          True      True   \n",
       "...     ...                ...          ...           ...       ...   \n",
       "110516   56        MARIA ORTIZ        False         False     False   \n",
       "110517   51        MARIA ORTIZ        False         False     False   \n",
       "110518   21        MARIA ORTIZ        False         False     False   \n",
       "110519   38        MARIA ORTIZ        False         False     False   \n",
       "110520   54        MARIA ORTIZ        False         False     False   \n",
       "\n",
       "        alcoholism handicap  sms_received  no_show  leadtime age_group  \\\n",
       "0            False        0         False    False         0     51-65   \n",
       "1            False        0         False    False         0     51-65   \n",
       "2            False        0         False    False         0     51-65   \n",
       "3            False        0         False    False         0      0-18   \n",
       "4            False        0         False    False         0     51-65   \n",
       "...            ...      ...           ...      ...       ...       ...   \n",
       "110516       False        0          True    False        35     51-65   \n",
       "110517       False        0          True    False        35     51-65   \n",
       "110518       False        0          True    False        41     19-35   \n",
       "110519       False        0          True    False        41     36-50   \n",
       "110520       False        0          True    False        41     51-65   \n",
       "\n",
       "        days_between_appointment appointment_weekday  num_chronic_conditions  \\\n",
       "0                              0              Friday                       1   \n",
       "1                              0              Friday                       0   \n",
       "2                              0              Friday                       0   \n",
       "3                              0              Friday                       0   \n",
       "4                              0              Friday                       2   \n",
       "...                          ...                 ...                     ...   \n",
       "110516                        35             Tuesday                       0   \n",
       "110517                        35             Tuesday                       0   \n",
       "110518                        41             Tuesday                       0   \n",
       "110519                        41             Tuesday                       0   \n",
       "110520                        41             Tuesday                       0   \n",
       "\n",
       "        sms_received_label  \n",
       "0                    False  \n",
       "1                    False  \n",
       "2                    False  \n",
       "3                    False  \n",
       "4                    False  \n",
       "...                    ...  \n",
       "110516                True  \n",
       "110517                True  \n",
       "110518                True  \n",
       "110519                True  \n",
       "110520                True  \n",
       "\n",
       "[110521 rows x 20 columns]"
      ]
     },
     "execution_count": 44,
     "metadata": {},
     "output_type": "execute_result"
    }
   ],
   "source": [
    "new_df"
   ]
  },
  {
   "cell_type": "markdown",
   "metadata": {},
   "source": [
    "<h2 style=\"color:yellow\"> 4.2 Create new features based on existing columns</h2>"
   ]
  },
  {
   "cell_type": "code",
   "execution_count": 45,
   "metadata": {
    "ExecuteTime": {
     "end_time": "2025-05-31T23:02:49.760284Z",
     "start_time": "2025-05-31T23:02:49.734393Z"
    }
   },
   "outputs": [],
   "source": [
    "new_df_features = new_df.copy(deep=True)"
   ]
  },
  {
   "cell_type": "code",
   "execution_count": 46,
   "metadata": {
    "ExecuteTime": {
     "end_time": "2025-05-31T23:02:49.941663Z",
     "start_time": "2025-05-31T23:02:49.924430Z"
    }
   },
   "outputs": [],
   "source": [
    "# 1. Extract the hour of the day when the appointment was scheduled\n",
    "new_df_features['scheduled_hour'] = pd.to_datetime(new_df_features['scheduled_day']).dt.hour"
   ]
  },
  {
   "cell_type": "code",
   "execution_count": 47,
   "metadata": {
    "ExecuteTime": {
     "end_time": "2025-05-31T23:02:50.382163Z",
     "start_time": "2025-05-31T23:02:50.358719Z"
    }
   },
   "outputs": [],
   "source": [
    "\n",
    "# 2. Create a new column for the total number of chronic conditions\n",
    "new_df_features['appointment_day'] = pd.to_datetime(new_df_features['appointment_day'], errors='coerce')\n",
    "new_df_features['IsWeekend'] = new_df_features[\"appointment_day\"].dt.day_of_week.isin([5, 6]).astype(int)  # 5 = Saturday, 6 = Sunday"
   ]
  },
  {
   "cell_type": "code",
   "execution_count": 48,
   "metadata": {
    "ExecuteTime": {
     "end_time": "2025-05-31T23:02:50.654213Z",
     "start_time": "2025-05-31T23:02:50.623459Z"
    }
   },
   "outputs": [],
   "source": [
    "\n",
    "# 3. Create a feature for the number of days until the next appointment (if applicable)\n",
    "diffs = new_df_features.groupby('patient_id')['appointment_day'].diff()\n",
    "new_df_features['day_until_next_appointment'] = diffs.dt.days"
   ]
  },
  {
   "cell_type": "code",
   "execution_count": 49,
   "metadata": {
    "ExecuteTime": {
     "end_time": "2025-05-31T23:02:50.793877Z",
     "start_time": "2025-05-31T23:02:50.764825Z"
    }
   },
   "outputs": [],
   "source": [
    "\n",
    "# 4. Create a feature for the number of previous no-shows by the patient\n",
    "new_df_features['previous_no_shows'] = new_df_features.groupby('patient_id')['no_show'].cumsum() - new_df_features['no_show']\n"
   ]
  },
  {
   "cell_type": "code",
   "execution_count": 50,
   "metadata": {
    "ExecuteTime": {
     "end_time": "2025-05-31T23:02:50.906853Z",
     "start_time": "2025-05-31T23:02:50.883372Z"
    }
   },
   "outputs": [],
   "source": [
    "# 5. Create a feature for the number of previous no-shows by the patient\n",
    "new_df_features['total_appointments'] = new_df_features.groupby('patient_id')['appointment_id'].transform('count')"
   ]
  },
  {
   "cell_type": "markdown",
   "metadata": {},
   "source": [
    "<h2 style=\"color:yellow\"> 4.2 Encoding Categorical Variables</h2>"
   ]
  },
  {
   "cell_type": "code",
   "execution_count": 51,
   "metadata": {
    "ExecuteTime": {
     "end_time": "2025-05-31T23:02:51.055494Z",
     "start_time": "2025-05-31T23:02:51.004870Z"
    }
   },
   "outputs": [],
   "source": [
    "# 6. Encode categorical variables as needed for modeling\n",
    "new_df_features = pd.get_dummies(new_df_features, columns=[\"neighbourhood\", 'age_group', 'appointment_weekday', 'sms_received_label'], drop_first=True)"
   ]
  },
  {
   "cell_type": "code",
   "execution_count": 52,
   "metadata": {
    "ExecuteTime": {
     "end_time": "2025-05-31T23:02:51.168829Z",
     "start_time": "2025-05-31T23:02:51.146874Z"
    }
   },
   "outputs": [],
   "source": [
    "# Drop irrelevant columns\n",
    "new_df_features = new_df_features.drop(columns=['patient_id', 'appointment_id', 'scheduled_day', 'appointment_day'])"
   ]
  },
  {
   "cell_type": "code",
   "execution_count": 53,
   "metadata": {
    "ExecuteTime": {
     "end_time": "2025-05-31T23:02:51.336877Z",
     "start_time": "2025-05-31T23:02:51.304879Z"
    }
   },
   "outputs": [
    {
     "data": {
      "text/html": [
       "<div>\n",
       "<style scoped>\n",
       "    .dataframe tbody tr th:only-of-type {\n",
       "        vertical-align: middle;\n",
       "    }\n",
       "\n",
       "    .dataframe tbody tr th {\n",
       "        vertical-align: top;\n",
       "    }\n",
       "\n",
       "    .dataframe thead th {\n",
       "        text-align: right;\n",
       "    }\n",
       "</style>\n",
       "<table border=\"1\" class=\"dataframe\">\n",
       "  <thead>\n",
       "    <tr style=\"text-align: right;\">\n",
       "      <th></th>\n",
       "      <th>gender</th>\n",
       "      <th>age</th>\n",
       "      <th>scholarship</th>\n",
       "      <th>hypertension</th>\n",
       "      <th>diabetes</th>\n",
       "      <th>alcoholism</th>\n",
       "      <th>handicap</th>\n",
       "      <th>sms_received</th>\n",
       "      <th>no_show</th>\n",
       "      <th>leadtime</th>\n",
       "      <th>...</th>\n",
       "      <th>age_group_19-35</th>\n",
       "      <th>age_group_36-50</th>\n",
       "      <th>age_group_51-65</th>\n",
       "      <th>age_group_66+</th>\n",
       "      <th>appointment_weekday_Monday</th>\n",
       "      <th>appointment_weekday_Saturday</th>\n",
       "      <th>appointment_weekday_Thursday</th>\n",
       "      <th>appointment_weekday_Tuesday</th>\n",
       "      <th>appointment_weekday_Wednesday</th>\n",
       "      <th>sms_received_label_True</th>\n",
       "    </tr>\n",
       "  </thead>\n",
       "  <tbody>\n",
       "    <tr>\n",
       "      <th>0</th>\n",
       "      <td>F</td>\n",
       "      <td>62</td>\n",
       "      <td>False</td>\n",
       "      <td>True</td>\n",
       "      <td>False</td>\n",
       "      <td>False</td>\n",
       "      <td>0</td>\n",
       "      <td>False</td>\n",
       "      <td>False</td>\n",
       "      <td>0</td>\n",
       "      <td>...</td>\n",
       "      <td>False</td>\n",
       "      <td>False</td>\n",
       "      <td>True</td>\n",
       "      <td>False</td>\n",
       "      <td>False</td>\n",
       "      <td>False</td>\n",
       "      <td>False</td>\n",
       "      <td>False</td>\n",
       "      <td>False</td>\n",
       "      <td>False</td>\n",
       "    </tr>\n",
       "    <tr>\n",
       "      <th>1</th>\n",
       "      <td>M</td>\n",
       "      <td>56</td>\n",
       "      <td>False</td>\n",
       "      <td>False</td>\n",
       "      <td>False</td>\n",
       "      <td>False</td>\n",
       "      <td>0</td>\n",
       "      <td>False</td>\n",
       "      <td>False</td>\n",
       "      <td>0</td>\n",
       "      <td>...</td>\n",
       "      <td>False</td>\n",
       "      <td>False</td>\n",
       "      <td>True</td>\n",
       "      <td>False</td>\n",
       "      <td>False</td>\n",
       "      <td>False</td>\n",
       "      <td>False</td>\n",
       "      <td>False</td>\n",
       "      <td>False</td>\n",
       "      <td>False</td>\n",
       "    </tr>\n",
       "    <tr>\n",
       "      <th>2</th>\n",
       "      <td>F</td>\n",
       "      <td>62</td>\n",
       "      <td>False</td>\n",
       "      <td>False</td>\n",
       "      <td>False</td>\n",
       "      <td>False</td>\n",
       "      <td>0</td>\n",
       "      <td>False</td>\n",
       "      <td>False</td>\n",
       "      <td>0</td>\n",
       "      <td>...</td>\n",
       "      <td>False</td>\n",
       "      <td>False</td>\n",
       "      <td>True</td>\n",
       "      <td>False</td>\n",
       "      <td>False</td>\n",
       "      <td>False</td>\n",
       "      <td>False</td>\n",
       "      <td>False</td>\n",
       "      <td>False</td>\n",
       "      <td>False</td>\n",
       "    </tr>\n",
       "    <tr>\n",
       "      <th>3</th>\n",
       "      <td>F</td>\n",
       "      <td>8</td>\n",
       "      <td>False</td>\n",
       "      <td>False</td>\n",
       "      <td>False</td>\n",
       "      <td>False</td>\n",
       "      <td>0</td>\n",
       "      <td>False</td>\n",
       "      <td>False</td>\n",
       "      <td>0</td>\n",
       "      <td>...</td>\n",
       "      <td>False</td>\n",
       "      <td>False</td>\n",
       "      <td>False</td>\n",
       "      <td>False</td>\n",
       "      <td>False</td>\n",
       "      <td>False</td>\n",
       "      <td>False</td>\n",
       "      <td>False</td>\n",
       "      <td>False</td>\n",
       "      <td>False</td>\n",
       "    </tr>\n",
       "    <tr>\n",
       "      <th>4</th>\n",
       "      <td>F</td>\n",
       "      <td>56</td>\n",
       "      <td>False</td>\n",
       "      <td>True</td>\n",
       "      <td>True</td>\n",
       "      <td>False</td>\n",
       "      <td>0</td>\n",
       "      <td>False</td>\n",
       "      <td>False</td>\n",
       "      <td>0</td>\n",
       "      <td>...</td>\n",
       "      <td>False</td>\n",
       "      <td>False</td>\n",
       "      <td>True</td>\n",
       "      <td>False</td>\n",
       "      <td>False</td>\n",
       "      <td>False</td>\n",
       "      <td>False</td>\n",
       "      <td>False</td>\n",
       "      <td>False</td>\n",
       "      <td>False</td>\n",
       "    </tr>\n",
       "    <tr>\n",
       "      <th>...</th>\n",
       "      <td>...</td>\n",
       "      <td>...</td>\n",
       "      <td>...</td>\n",
       "      <td>...</td>\n",
       "      <td>...</td>\n",
       "      <td>...</td>\n",
       "      <td>...</td>\n",
       "      <td>...</td>\n",
       "      <td>...</td>\n",
       "      <td>...</td>\n",
       "      <td>...</td>\n",
       "      <td>...</td>\n",
       "      <td>...</td>\n",
       "      <td>...</td>\n",
       "      <td>...</td>\n",
       "      <td>...</td>\n",
       "      <td>...</td>\n",
       "      <td>...</td>\n",
       "      <td>...</td>\n",
       "      <td>...</td>\n",
       "      <td>...</td>\n",
       "    </tr>\n",
       "    <tr>\n",
       "      <th>110516</th>\n",
       "      <td>F</td>\n",
       "      <td>56</td>\n",
       "      <td>False</td>\n",
       "      <td>False</td>\n",
       "      <td>False</td>\n",
       "      <td>False</td>\n",
       "      <td>0</td>\n",
       "      <td>True</td>\n",
       "      <td>False</td>\n",
       "      <td>35</td>\n",
       "      <td>...</td>\n",
       "      <td>False</td>\n",
       "      <td>False</td>\n",
       "      <td>True</td>\n",
       "      <td>False</td>\n",
       "      <td>False</td>\n",
       "      <td>False</td>\n",
       "      <td>False</td>\n",
       "      <td>True</td>\n",
       "      <td>False</td>\n",
       "      <td>True</td>\n",
       "    </tr>\n",
       "    <tr>\n",
       "      <th>110517</th>\n",
       "      <td>F</td>\n",
       "      <td>51</td>\n",
       "      <td>False</td>\n",
       "      <td>False</td>\n",
       "      <td>False</td>\n",
       "      <td>False</td>\n",
       "      <td>0</td>\n",
       "      <td>True</td>\n",
       "      <td>False</td>\n",
       "      <td>35</td>\n",
       "      <td>...</td>\n",
       "      <td>False</td>\n",
       "      <td>False</td>\n",
       "      <td>True</td>\n",
       "      <td>False</td>\n",
       "      <td>False</td>\n",
       "      <td>False</td>\n",
       "      <td>False</td>\n",
       "      <td>True</td>\n",
       "      <td>False</td>\n",
       "      <td>True</td>\n",
       "    </tr>\n",
       "    <tr>\n",
       "      <th>110518</th>\n",
       "      <td>F</td>\n",
       "      <td>21</td>\n",
       "      <td>False</td>\n",
       "      <td>False</td>\n",
       "      <td>False</td>\n",
       "      <td>False</td>\n",
       "      <td>0</td>\n",
       "      <td>True</td>\n",
       "      <td>False</td>\n",
       "      <td>41</td>\n",
       "      <td>...</td>\n",
       "      <td>True</td>\n",
       "      <td>False</td>\n",
       "      <td>False</td>\n",
       "      <td>False</td>\n",
       "      <td>False</td>\n",
       "      <td>False</td>\n",
       "      <td>False</td>\n",
       "      <td>True</td>\n",
       "      <td>False</td>\n",
       "      <td>True</td>\n",
       "    </tr>\n",
       "    <tr>\n",
       "      <th>110519</th>\n",
       "      <td>F</td>\n",
       "      <td>38</td>\n",
       "      <td>False</td>\n",
       "      <td>False</td>\n",
       "      <td>False</td>\n",
       "      <td>False</td>\n",
       "      <td>0</td>\n",
       "      <td>True</td>\n",
       "      <td>False</td>\n",
       "      <td>41</td>\n",
       "      <td>...</td>\n",
       "      <td>False</td>\n",
       "      <td>True</td>\n",
       "      <td>False</td>\n",
       "      <td>False</td>\n",
       "      <td>False</td>\n",
       "      <td>False</td>\n",
       "      <td>False</td>\n",
       "      <td>True</td>\n",
       "      <td>False</td>\n",
       "      <td>True</td>\n",
       "    </tr>\n",
       "    <tr>\n",
       "      <th>110520</th>\n",
       "      <td>F</td>\n",
       "      <td>54</td>\n",
       "      <td>False</td>\n",
       "      <td>False</td>\n",
       "      <td>False</td>\n",
       "      <td>False</td>\n",
       "      <td>0</td>\n",
       "      <td>True</td>\n",
       "      <td>False</td>\n",
       "      <td>41</td>\n",
       "      <td>...</td>\n",
       "      <td>False</td>\n",
       "      <td>False</td>\n",
       "      <td>True</td>\n",
       "      <td>False</td>\n",
       "      <td>False</td>\n",
       "      <td>False</td>\n",
       "      <td>False</td>\n",
       "      <td>True</td>\n",
       "      <td>False</td>\n",
       "      <td>True</td>\n",
       "    </tr>\n",
       "  </tbody>\n",
       "</table>\n",
       "<p>110521 rows × 107 columns</p>\n",
       "</div>"
      ],
      "text/plain": [
       "       gender  age  scholarship  hypertension  diabetes  alcoholism handicap  \\\n",
       "0           F   62        False          True     False       False        0   \n",
       "1           M   56        False         False     False       False        0   \n",
       "2           F   62        False         False     False       False        0   \n",
       "3           F    8        False         False     False       False        0   \n",
       "4           F   56        False          True      True       False        0   \n",
       "...       ...  ...          ...           ...       ...         ...      ...   \n",
       "110516      F   56        False         False     False       False        0   \n",
       "110517      F   51        False         False     False       False        0   \n",
       "110518      F   21        False         False     False       False        0   \n",
       "110519      F   38        False         False     False       False        0   \n",
       "110520      F   54        False         False     False       False        0   \n",
       "\n",
       "        sms_received  no_show  leadtime  ...  age_group_19-35  \\\n",
       "0              False    False         0  ...            False   \n",
       "1              False    False         0  ...            False   \n",
       "2              False    False         0  ...            False   \n",
       "3              False    False         0  ...            False   \n",
       "4              False    False         0  ...            False   \n",
       "...              ...      ...       ...  ...              ...   \n",
       "110516          True    False        35  ...            False   \n",
       "110517          True    False        35  ...            False   \n",
       "110518          True    False        41  ...             True   \n",
       "110519          True    False        41  ...            False   \n",
       "110520          True    False        41  ...            False   \n",
       "\n",
       "        age_group_36-50  age_group_51-65  age_group_66+  \\\n",
       "0                 False             True          False   \n",
       "1                 False             True          False   \n",
       "2                 False             True          False   \n",
       "3                 False            False          False   \n",
       "4                 False             True          False   \n",
       "...                 ...              ...            ...   \n",
       "110516            False             True          False   \n",
       "110517            False             True          False   \n",
       "110518            False            False          False   \n",
       "110519             True            False          False   \n",
       "110520            False             True          False   \n",
       "\n",
       "        appointment_weekday_Monday  appointment_weekday_Saturday  \\\n",
       "0                            False                         False   \n",
       "1                            False                         False   \n",
       "2                            False                         False   \n",
       "3                            False                         False   \n",
       "4                            False                         False   \n",
       "...                            ...                           ...   \n",
       "110516                       False                         False   \n",
       "110517                       False                         False   \n",
       "110518                       False                         False   \n",
       "110519                       False                         False   \n",
       "110520                       False                         False   \n",
       "\n",
       "        appointment_weekday_Thursday  appointment_weekday_Tuesday  \\\n",
       "0                              False                        False   \n",
       "1                              False                        False   \n",
       "2                              False                        False   \n",
       "3                              False                        False   \n",
       "4                              False                        False   \n",
       "...                              ...                          ...   \n",
       "110516                         False                         True   \n",
       "110517                         False                         True   \n",
       "110518                         False                         True   \n",
       "110519                         False                         True   \n",
       "110520                         False                         True   \n",
       "\n",
       "        appointment_weekday_Wednesday  sms_received_label_True  \n",
       "0                               False                    False  \n",
       "1                               False                    False  \n",
       "2                               False                    False  \n",
       "3                               False                    False  \n",
       "4                               False                    False  \n",
       "...                               ...                      ...  \n",
       "110516                          False                     True  \n",
       "110517                          False                     True  \n",
       "110518                          False                     True  \n",
       "110519                          False                     True  \n",
       "110520                          False                     True  \n",
       "\n",
       "[110521 rows x 107 columns]"
      ]
     },
     "execution_count": 53,
     "metadata": {},
     "output_type": "execute_result"
    }
   ],
   "source": [
    "new_df_features"
   ]
  },
  {
   "cell_type": "markdown",
   "metadata": {},
   "source": [
    "<h1 style=\"color:blue\"> 5. Predictive Modeling</h1>\n",
    "\n",
    "<b>Predictive modeling</b> is an aspect of data science and machine learning that involves using historical data to build mathematical model that can predict feature or unknown outcomes. in predictive modelling. \n",
    "\n",
    "- Split the dataset into training and testing sets.\n",
    "- Train and evaluate multiple models\n",
    "   - Logistic Regression\n",
    "   - Random Forest\n",
    "   - XGBoost\n",
    "- Tune hyperparameter for the best-performance model\n",
    "- Evaluate the final model using metrics like accuracy, precision, recall, and F1-score\n"
   ]
  },
  {
   "cell_type": "markdown",
   "metadata": {},
   "source": [
    "<h2 style=\"color:yellow\"> 5.1 Split the dataset </h2>"
   ]
  },
  {
   "cell_type": "code",
   "execution_count": 54,
   "metadata": {
    "ExecuteTime": {
     "end_time": "2025-05-31T23:02:52.466854Z",
     "start_time": "2025-05-31T23:02:51.514784Z"
    }
   },
   "outputs": [
    {
     "name": "stdout",
     "output_type": "stream",
     "text": [
      "Training set shape: (88416, 109)\n",
      "Test set shape: (22105, 109)\n"
     ]
    }
   ],
   "source": [
    "from sklearn.model_selection import train_test_split\n",
    "from sklearn.impute import SimpleImputer\n",
    "\n",
    "# Define features (X) and target (y)\n",
    "X = new_df_features.drop(columns=['no_show'])\n",
    "y = new_df_features['no_show']\n",
    "\n",
    "# Convert categorical variables to numeric using one-hot encoding\n",
    "X = pd.get_dummies(X, drop_first=True)\n",
    "\n",
    "# Impute missing values with the mean (or median/mode)\n",
    "impute = SimpleImputer(strategy='mean')\n",
    "X = pd.DataFrame(impute.fit_transform(X), columns=X.columns)\n",
    "\n",
    "# Split the dataset (80% train, 20% test)\n",
    "X_train, X_test, y_train, y_test = train_test_split(X, y, test_size=0.2, random_state=42, stratify=y)\n",
    "\n",
    "# Print the shapes of the resulting datasets\n",
    "print(f\"Training set shape: {X_train.shape}\")\n",
    "print(f\"Test set shape: {X_test.shape}\")"
   ]
  },
  {
   "cell_type": "markdown",
   "metadata": {},
   "source": [
    "<h2 style=\"color:yellow\">5.2 Train and Evaluate Models</h2>\n",
    "\n",
    "Train and evaluate three models\n",
    "<ol>\n",
    "    <li>Logistic Regression</li>\n",
    "    <li>Random Forest</li>\n",
    "    <li>XGBoot</li>\n",
    "</ol>"
   ]
  },
  {
   "cell_type": "code",
   "execution_count": 55,
   "metadata": {
    "ExecuteTime": {
     "end_time": "2025-05-31T23:02:52.888773Z",
     "start_time": "2025-05-31T23:02:52.733505Z"
    }
   },
   "outputs": [],
   "source": [
    "from sklearn.linear_model import LogisticRegression\n",
    "from sklearn.ensemble import RandomForestClassifier\n",
    "from xgboost import XGBClassifier\n",
    "from sklearn.metrics import accuracy_score, precision_score, recall_score, f1_score, confusion_matrix, classification_report\n",
    "\n",
    "# Function to evaluate models\n",
    "def evaluate_model(model, X_train, y_train, X_test, y_test):\n",
    "    # Train the model\n",
    "    model.fit(X_train, y_train)\n",
    "    \n",
    "    # Make predictions\n",
    "    y_pred = model.predict(X_test)\n",
    "    \n",
    "    # Evaluate the model\n",
    "    accuracy = accuracy_score(y_test, y_pred)\n",
    "    precision = precision_score(y_test, y_pred)\n",
    "    recall = recall_score(y_test, y_pred)\n",
    "    f1 = f1_score(y_test, y_pred)\n",
    "    conf_matrix = confusion_matrix(y_test, y_pred)\n",
    "    class_report = classification_report(y_test, y_pred)\n",
    "    \n",
    "    # Print evaluation metrics\n",
    "    print(f\"Accuracy: {accuracy:.4f}\")\n",
    "    print(f\"Precision: {precision:.4f}\")\n",
    "    print(f\"Recall: {recall:.4f}\")\n",
    "    print(f\"F1 Score: {f1:.4f}\")\n",
    "    print(\"Confusion Matrix:\\n\", conf_matrix)\n",
    "    print(\"Classification Report:\\n\", class_report)\n",
    "    \n",
    "    return model\n",
    "\n",
    "# Initialize models\n",
    "log_reg = LogisticRegression(max_iter=1000, random_state=42)\n",
    "rf_classifier = RandomForestClassifier(n_estimators=100, random_state=42)\n",
    "xgb_classifier = XGBClassifier(random_state=42, n_estimators=100, learning_rate=0.1)"
   ]
  },
  {
   "cell_type": "code",
   "execution_count": 56,
   "metadata": {
    "ExecuteTime": {
     "end_time": "2025-05-31T23:03:06.438872Z",
     "start_time": "2025-05-31T23:02:53.429244Z"
    }
   },
   "outputs": [
    {
     "name": "stdout",
     "output_type": "stream",
     "text": [
      "Logistic Regression Result:\n",
      "Accuracy: 0.7977\n",
      "Precision: 0.4878\n",
      "Recall: 0.0359\n",
      "F1 Score: 0.0668\n",
      "Confusion Matrix:\n",
      " [[17474   168]\n",
      " [ 4303   160]]\n",
      "Classification Report:\n",
      "               precision    recall  f1-score   support\n",
      "\n",
      "       False       0.80      0.99      0.89     17642\n",
      "        True       0.49      0.04      0.07      4463\n",
      "\n",
      "    accuracy                           0.80     22105\n",
      "   macro avg       0.65      0.51      0.48     22105\n",
      "weighted avg       0.74      0.80      0.72     22105\n",
      "\n"
     ]
    }
   ],
   "source": [
    "# Evaluate Logistic Regression\n",
    "print(\"Logistic Regression Result:\")\n",
    "log_reg = evaluate_model(log_reg, X_train, y_train, X_test, y_test)"
   ]
  },
  {
   "cell_type": "code",
   "execution_count": 57,
   "metadata": {
    "ExecuteTime": {
     "end_time": "2025-05-31T23:03:26.683930Z",
     "start_time": "2025-05-31T23:03:06.521794Z"
    }
   },
   "outputs": [
    {
     "name": "stdout",
     "output_type": "stream",
     "text": [
      "\n",
      "Random Forest Classifier Result:\n",
      "Accuracy: 0.7962\n",
      "Precision: 0.4847\n",
      "Recall: 0.1452\n",
      "F1 Score: 0.2234\n",
      "Confusion Matrix:\n",
      " [[16953   689]\n",
      " [ 3815   648]]\n",
      "Classification Report:\n",
      "               precision    recall  f1-score   support\n",
      "\n",
      "       False       0.82      0.96      0.88     17642\n",
      "        True       0.48      0.15      0.22      4463\n",
      "\n",
      "    accuracy                           0.80     22105\n",
      "   macro avg       0.65      0.55      0.55     22105\n",
      "weighted avg       0.75      0.80      0.75     22105\n",
      "\n"
     ]
    }
   ],
   "source": [
    "# Evaluate Random Forest Classifier\n",
    "print(\"\\nRandom Forest Classifier Result:\")\n",
    "rf_classifier = evaluate_model(rf_classifier, X_train, y_train, X_test, y_test)"
   ]
  },
  {
   "cell_type": "code",
   "execution_count": 58,
   "metadata": {
    "ExecuteTime": {
     "end_time": "2025-05-31T23:03:27.792977Z",
     "start_time": "2025-05-31T23:03:26.768829Z"
    }
   },
   "outputs": [
    {
     "name": "stdout",
     "output_type": "stream",
     "text": [
      "\n",
      "XGBoost Classifier Result:\n",
      "Accuracy: 0.8039\n",
      "Precision: 0.6275\n",
      "Recall: 0.0706\n",
      "F1 Score: 0.1269\n",
      "Confusion Matrix:\n",
      " [[17455   187]\n",
      " [ 4148   315]]\n",
      "Classification Report:\n",
      "               precision    recall  f1-score   support\n",
      "\n",
      "       False       0.81      0.99      0.89     17642\n",
      "        True       0.63      0.07      0.13      4463\n",
      "\n",
      "    accuracy                           0.80     22105\n",
      "   macro avg       0.72      0.53      0.51     22105\n",
      "weighted avg       0.77      0.80      0.74     22105\n",
      "\n"
     ]
    }
   ],
   "source": [
    "# Evaluate XGBoost Classifier\n",
    "print(\"\\nXGBoost Classifier Result:\")\n",
    "xgb_classifier = evaluate_model(xgb_classifier, X_train, y_train, X_test, y_test)"
   ]
  },
  {
   "cell_type": "markdown",
   "metadata": {},
   "source": [
    "<h2 style=\"color:yellow\"> 5.3 Hyperparameter Tuning</h2>\n",
    "\n",
    "Using <i>`GridSearchCV`</i> to tune <i>`hyperparameter`</i> for the best-performing model, <i>Random Forest</i>"
   ]
  },
  {
   "cell_type": "code",
   "execution_count": 59,
   "metadata": {
    "ExecuteTime": {
     "end_time": "2025-05-31T23:18:24.750284Z",
     "start_time": "2025-05-31T23:03:27.902415Z"
    }
   },
   "outputs": [
    {
     "name": "stdout",
     "output_type": "stream",
     "text": [
      "Tuning Logistic Regression...\n",
      "Best parameters for Logistic Regression: {'C': 0.01, 'penalty': 'l2', 'solver': 'liblinear'}\n",
      "Best cross-validation score for Logistic Regression: 0.7967110121510489\n",
      "\n",
      "Tuning Random Forest...\n",
      "Best parameters for Random Forest: {'n_estimators': 200, 'min_samples_split': 5, 'min_samples_leaf': 2, 'max_depth': 30}\n",
      "Best cross-validation score for Random Forest: 0.8044358548829666\n",
      "\n",
      "Tuning XGBoost...\n",
      "Best parameters for XGBoost: {'subsample': 1.0, 'n_estimators': 200, 'max_depth': 7, 'learning_rate': 0.1, 'colsample_bytree': 1.0}\n",
      "Best cross-validation score for XGBoost: 0.8042888261252482\n"
     ]
    }
   ],
   "source": [
    "from sklearn.model_selection import GridSearchCV, RandomizedSearchCV\n",
    "\n",
    "# Define the parameter grid for each model\n",
    "param_grid_log_reg = {\n",
    "    'C': [0.01, 0.1, 1, 10, 100], # Regularization strength\n",
    "    'penalty': ['l2', 'l1'],      # Regularization type \n",
    "    'solver': ['liblinear']       # Solver for optimization\n",
    "}\n",
    "\n",
    "param_grid_rf = {\n",
    "    'n_estimators': [50, 100, 200],   # Number of trees in the forest\n",
    "    'max_depth': [None, 10, 20, 30],  # Maximum depth of the tree\n",
    "    'min_samples_split': [2, 5, 10],  # Minimum number of samples required to split an internal node\n",
    "    'min_samples_leaf': [1, 2, 4]     # Minimum number of samples required to be at a leaf node\n",
    "}\n",
    "\n",
    "param_grid_xgb = {\n",
    "    'n_estimators': [50, 100, 200],       # Number of trees in the ensemble\n",
    "    'learning_rate': [0.01, 0.1, 0.2],    # Step size shrinkage used in update to prevent overfitting\n",
    "    'max_depth': [3, 5, 7],               # Maximum depth of a tree\n",
    "    'subsample': [0.8, 0.9, 1.0],         # Subsample ratio of the training instances\n",
    "    'colsample_bytree': [0.8, 0.9, 1.0]   # Subsample ratio of columns when constructing each tree\n",
    "}\n",
    "\n",
    "# Perform GridSearchCV for Logistic Regression\n",
    "print(\"Tuning Logistic Regression...\")\n",
    "grid_log_reg = GridSearchCV(LogisticRegression(random_state=42, max_iter=1000), param_grid_log_reg, cv=5, scoring='accuracy')\n",
    "grid_log_reg.fit(X_train, y_train)\n",
    "print(\"Best parameters for Logistic Regression:\", grid_log_reg.best_params_)\n",
    "print(\"Best cross-validation score for Logistic Regression:\", grid_log_reg.best_score_)\n",
    "\n",
    "# Perform RandomizedSearchCV for Random Forest\n",
    "print(\"\\nTuning Random Forest...\")\n",
    "random_rf = RandomizedSearchCV(RandomForestClassifier(random_state=42), param_grid_rf, n_iter=10, cv=5, scoring='accuracy', random_state=42)\n",
    "random_rf.fit(X_train, y_train)\n",
    "print(\"Best parameters for Random Forest:\", random_rf.best_params_)\n",
    "print(\"Best cross-validation score for Random Forest:\", random_rf.best_score_)\n",
    "\n",
    "# Perform RandomizedSearchCV for XGBoost\n",
    "print(\"\\nTuning XGBoost...\")\n",
    "random_xgb = RandomizedSearchCV(XGBClassifier(random_state=42), param_grid_xgb, n_iter=10, cv=5, scoring='accuracy', random_state=42)\n",
    "random_xgb.fit(X_train, y_train)\n",
    "print(\"Best parameters for XGBoost:\", random_xgb.best_params_)\n",
    "print(\"Best cross-validation score for XGBoost:\", random_xgb.best_score_)"
   ]
  },
  {
   "cell_type": "markdown",
   "metadata": {},
   "source": [
    "<h1 style=\"color:blue\"> Exploring Hyperparameter Tuning Output</h1>\n",
    "\n",
    "Detail analysis of the hyperparameter tuning results for each model\n",
    "\n",
    "<h2 style=\"color:yellow\"> 1. Logistic Regression</h2>\n",
    "<b>Best Parameters:</b>\n",
    "\n",
    "<ul>\n",
    "    <li>C: 0.1 (regularization strength)</li>\n",
    "    <li>penalty: l1</li>\n",
    "    <li>solver: liblinear</li>     \n",
    "</ul>\n",
    "\n",
    "<b> Best Cross-Validation Score:</b> 0.7970\n",
    "\n",
    "<b>Key Points</b>\n",
    "<p>\n",
    "- The model performance best with <b>strong regularization</b>(C=0.01), indicating that the dataset might have some noise or less important features that need to be penalized.\n",
    "</p>\n",
    "<p>\n",
    "- The choice of <b>L2 penalty</b> suggests that the model benefits from shrinking all coefficients uniformly rather than performing feature selection (which L1 would do)\n",
    "</p>\n",
    "<p>\n",
    "- The cross-validation score of 79.7% is decent but lower than the other models, suggesting that Logistic Regression might not be the best fit for this dataset.\n",
    "</p>"
   ]
  },
  {
   "cell_type": "markdown",
   "metadata": {},
   "source": [
    "<h2 style=\"color:yellow\"> 2. Random Forest</h2>\n",
    "\n",
    "<b>Best Parameters</p>\n",
    "<ul>\n",
    "  <li> \n",
    "     n_estimators: 200 (number of trees)\n",
    "  </li>\n",
    "  <li>\n",
    "     max_depth: None (no limit on tree depth)\n",
    "  </li>\n",
    "  <li>\n",
    "     min_samples_split: 2 (minimum samples required to split a node)\n",
    "  </li>\n",
    "  <li>\n",
    "    min_samples_leaf: 2 (minimum samples required at each leaf node)\n",
    "  </li>\n",
    "</ul>\n",
    "\n",
    "<b>Best Cross-Validation Score:</b> 0.7236\n",
    "\n",
    "<b>Key Points</b>\n",
    "\n",
    "<p>\n",
    " - The model performance best with <b>200 tree</b> and <b>no limited on tree depth</b>, indicating that the dataset benefits from complex trees that can capture indicate patterns.\n",
    "</p>\n",
    "<p>\n",
    " - The <b>low values for min_samples_split and min_samples_leaf</b> suggest that the model can handle smaller subsets of data without over-fitting, likely due to the ensemble nature of Random Forest.\n",
    "</p>\n",
    "<p>\n",
    "- The cross-validation score of 80.49% is slightly better than Logistic Regression, indicating that Random Forest is better fit for dataset.\n",
    "</p>"
   ]
  },
  {
   "cell_type": "markdown",
   "metadata": {},
   "source": [
    "<h2 style=\"color:yellow\">3. XGBoost</h2>\n",
    "\n",
    "<b>Best Parameters</b>\n",
    "\n",
    "<ul>\n",
    "  <li>\n",
    "    n_estimators: 200 (number of boosting rounds)\n",
    "  </li>\n",
    "  <li>\n",
    "    max_depth: 5 (maximum depth of a tree)\n",
    "  </li>\n",
    "  <li>\n",
    "    learning_rate: 0.2 (step size shrinkage)\n",
    "  </li>\n",
    "  <li>\n",
    "    subsample: 0.9 (fraction of samples used for training)\n",
    "  </li>\n",
    "  <li>\n",
    "    colsample_bytree: 1.0 (fraction of features used for training)\n",
    "  </li>\n",
    "</ul>\n",
    "\n",
    "<b>Best Cross-Validation Score:</b> 0.8051\n",
    "\n",
    "<p>Key points</p>\n",
    "<p>\n",
    "- The model performs best with 200 boosting rounds and a moderate learning rate of 0.2, indicating that the dataset benefits from a balance between learning speed and model complexity.\n",
    "</p>\n",
    "<p>\n",
    "- The tree depth of 5 suggests that the dataset does not require very deep trees to capture patterns, which helps prevent over-fitting.\n",
    "</p>\n",
    "<p>\n",
    "- The subsample ratio of 0.9 indicates that the model performs well when using 90% of the data for each tree, introducing some randomness to improve generalization.\n",
    "</p>\n",
    "<p>\n",
    "- The cross-validation score of 80.51% is the highest among the three models, suggesting that XGBoost is the best-performing model for this dataset.\n",
    "</p>"
   ]
  }
 ],
 "metadata": {
  "colab": {
   "provenance": []
  },
  "kernelspec": {
   "display_name": "base",
   "language": "python",
   "name": "python3"
  },
  "language_info": {
   "codemirror_mode": {
    "name": "ipython",
    "version": 3
   },
   "file_extension": ".py",
   "mimetype": "text/x-python",
   "name": "python",
   "nbconvert_exporter": "python",
   "pygments_lexer": "ipython3",
   "version": "3.12.7"
  }
 },
 "nbformat": 4,
 "nbformat_minor": 4
}
